{
 "cells": [
  {
   "cell_type": "code",
   "execution_count": 4,
   "metadata": {},
   "outputs": [
    {
     "data": {
      "text/plain": [
       "True"
      ]
     },
     "execution_count": 4,
     "metadata": {},
     "output_type": "execute_result"
    }
   ],
   "source": [
    "import torch\n",
    "torch.backends.cudnn.is_acceptable(torch.cuda.FloatTensor(1))\n"
   ]
  },
  {
   "cell_type": "code",
   "execution_count": 5,
   "metadata": {},
   "outputs": [
    {
     "name": "stdout",
     "output_type": "stream",
     "text": [
      "tensor([[-1.6722e-15,  0.0000e+00,  1.3593e-43],\n",
      "        [ 0.0000e+00,  1.6817e-05,  0.0000e+00],\n",
      "        [-1.8709e-27,  1.7796e-43,  6.8938e+16],\n",
      "        [ 0.0000e+00,  9.1084e-44,  0.0000e+00],\n",
      "        [ 1.6817e-05,  0.0000e+00, -1.8709e-27]])\n",
      "tensor([[0.6123, 0.5659, 0.0039],\n",
      "        [0.6128, 0.4336, 0.6287],\n",
      "        [0.4090, 0.0536, 0.9688],\n",
      "        [0.6705, 0.0725, 0.4474],\n",
      "        [0.9811, 0.2449, 0.0848]])\n",
      "tensor([[0, 0, 0],\n",
      "        [0, 0, 0],\n",
      "        [0, 0, 0],\n",
      "        [0, 0, 0],\n",
      "        [0, 0, 0]])\n",
      "tensor([5, 5, 3])\n"
     ]
    }
   ],
   "source": [
    "x = torch.empty(5, 3)\n",
    "print(x)\n",
    "x = torch.rand(5, 3)\n",
    "print(x)\n",
    "x = torch.zeros(5, 3, dtype=torch.long)\n",
    "print(x)\n",
    "x = torch.tensor([5,5, 3])\n",
    "print(x)"
   ]
  }
 ],
 "metadata": {
  "kernelspec": {
   "display_name": "Python 3",
   "language": "python",
   "name": "python3"
  },
  "language_info": {
   "codemirror_mode": {
    "name": "ipython",
    "version": 3
   },
   "file_extension": ".py",
   "mimetype": "text/x-python",
   "name": "python",
   "nbconvert_exporter": "python",
   "pygments_lexer": "ipython3",
   "version": "3.6.8"
  }
 },
 "nbformat": 4,
 "nbformat_minor": 2
}
