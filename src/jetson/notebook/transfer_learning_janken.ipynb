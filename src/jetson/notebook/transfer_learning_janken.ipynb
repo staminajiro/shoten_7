{
  "nbformat": 4,
  "nbformat_minor": 0,
  "metadata": {
    "kernelspec": {
      "name": "python3",
      "display_name": "Python 3"
    },
    "language_info": {
      "codemirror_mode": {
        "name": "ipython",
        "version": 3
      },
      "file_extension": ".py",
      "mimetype": "text/x-python",
      "name": "python",
      "nbconvert_exporter": "python",
      "pygments_lexer": "ipython3",
      "version": "3.6.6"
    },
    "colab": {
      "name": "transfer_learning_janken.ipynb",
      "version": "0.3.2",
      "provenance": [],
      "collapsed_sections": []
    },
    "accelerator": "GPU"
  },
  "cells": [
    {
      "cell_type": "markdown",
      "metadata": {
        "id": "-oWZgrnvvxw2",
        "colab_type": "text"
      },
      "source": [
        "\n",
        "Transfer Learning Tutorial\n",
        "==========================\n",
        "**Author**: `Sasank Chilamkurthy <https://chsasank.github.io>`_\n",
        "\n",
        "In this tutorial, you will learn how to train your network using\n",
        "transfer learning. You can read more about the transfer learning at `cs231n\n",
        "notes <http://cs231n.github.io/transfer-learning/>`__\n",
        "\n",
        "Quoting these notes,\n",
        "\n",
        "    In practice, very few people train an entire Convolutional Network\n",
        "    from scratch (with random initialization), because it is relatively\n",
        "    rare to have a dataset of sufficient size. Instead, it is common to\n",
        "    pretrain a ConvNet on a very large dataset (e.g. ImageNet, which\n",
        "    contains 1.2 million images with 1000 categories), and then use the\n",
        "    ConvNet either as an initialization or a fixed feature extractor for\n",
        "    the task of interest.\n",
        "\n",
        "These two major transfer learning scenarios look as follows:\n",
        "\n",
        "-  **Finetuning the convnet**: Instead of random initializaion, we\n",
        "   initialize the network with a pretrained network, like the one that is\n",
        "   trained on imagenet 1000 dataset. Rest of the training looks as\n",
        "   usual.\n",
        "-  **ConvNet as fixed feature extractor**: Here, we will freeze the weights\n",
        "   for all of the network except that of the final fully connected\n",
        "   layer. This last fully connected layer is replaced with a new one\n",
        "   with random weights and only this layer is trained.\n",
        "\n",
        "\n"
      ]
    },
    {
      "cell_type": "code",
      "metadata": {
        "id": "KXrZbOfQvxw6",
        "colab_type": "code",
        "colab": {}
      },
      "source": [
        "%matplotlib inline\n",
        "\n",
        "# License: BSD\n",
        "# Author: Sasank Chilamkurthy\n",
        "\n",
        "from __future__ import print_function, division\n",
        "\n",
        "import torch\n",
        "import torch.nn as nn\n",
        "import torch.optim as optim\n",
        "from torch.optim import lr_scheduler\n",
        "import numpy as np\n",
        "import torchvision\n",
        "from torchvision import datasets, models, transforms\n",
        "import matplotlib.pyplot as plt\n",
        "import time\n",
        "import os\n",
        "import copy\n",
        "\n",
        "plt.ion()   # interactive mode"
      ],
      "execution_count": 0,
      "outputs": []
    },
    {
      "cell_type": "code",
      "metadata": {
        "id": "3V5cgR2ux4gf",
        "colab_type": "code",
        "outputId": "0de1cb92-e701-4d3d-a604-cf50e5baf581",
        "colab": {
          "base_uri": "https://localhost:8080/",
          "height": 348
        }
      },
      "source": [
        "print(torch.cuda.is_available())\n",
        "print(torch.cuda.current_device())\n",
        "!nvidia-smi"
      ],
      "execution_count": 0,
      "outputs": [
        {
          "output_type": "stream",
          "text": [
            "True\n",
            "0\n",
            "Sat Sep  7 13:28:48 2019       \n",
            "+-----------------------------------------------------------------------------+\n",
            "| NVIDIA-SMI 430.40       Driver Version: 418.67       CUDA Version: 10.1     |\n",
            "|-------------------------------+----------------------+----------------------+\n",
            "| GPU  Name        Persistence-M| Bus-Id        Disp.A | Volatile Uncorr. ECC |\n",
            "| Fan  Temp  Perf  Pwr:Usage/Cap|         Memory-Usage | GPU-Util  Compute M. |\n",
            "|===============================+======================+======================|\n",
            "|   0  Tesla K80           Off  | 00000000:00:04.0 Off |                    0 |\n",
            "| N/A   55C    P0    59W / 149W |    673MiB / 11441MiB |      0%      Default |\n",
            "+-------------------------------+----------------------+----------------------+\n",
            "                                                                               \n",
            "+-----------------------------------------------------------------------------+\n",
            "| Processes:                                                       GPU Memory |\n",
            "|  GPU       PID   Type   Process name                             Usage      |\n",
            "|=============================================================================|\n",
            "+-----------------------------------------------------------------------------+\n"
          ],
          "name": "stdout"
        }
      ]
    },
    {
      "cell_type": "markdown",
      "metadata": {
        "id": "wdPwJ5novxxB",
        "colab_type": "text"
      },
      "source": [
        "Load Data\n",
        "---------\n",
        "\n",
        "We will use torchvision and torch.utils.data packages for loading the\n",
        "data.\n",
        "\n",
        "The problem we're going to solve today is to train a model to classify\n",
        "**ants** and **bees**. We have about 120 training images each for ants and bees.\n",
        "There are 75 validation images for each class. Usually, this is a very\n",
        "small dataset to generalize upon, if trained from scratch. Since we\n",
        "are using transfer learning, we should be able to generalize reasonably\n",
        "well.\n",
        "\n",
        "This dataset is a very small subset of imagenet.\n",
        "\n",
        ".. Note ::\n",
        "   Download the data from\n",
        "   `here <https://download.pytorch.org/tutorial/hymenoptera_data.zip>`_\n",
        "   and extract it to the current directory.\n",
        "\n"
      ]
    },
    {
      "cell_type": "code",
      "metadata": {
        "id": "CN02TVHf0j5_",
        "colab_type": "code",
        "outputId": "a3bd7f5d-2652-4a31-d5be-6629548d1e17",
        "colab": {
          "base_uri": "https://localhost:8080/",
          "height": 139
        }
      },
      "source": [
        "from google.colab import drive\n",
        "drive.mount('/content/drive', force_remount=True)\n"
      ],
      "execution_count": 0,
      "outputs": [
        {
          "output_type": "stream",
          "text": [
            "Go to this URL in a browser: https://accounts.google.com/o/oauth2/auth?client_id=947318989803-6bn6qk8qdgf4n4g3pfee6491hc0brc4i.apps.googleusercontent.com&redirect_uri=urn%3Aietf%3Awg%3Aoauth%3A2.0%3Aoob&scope=email%20https%3A%2F%2Fwww.googleapis.com%2Fauth%2Fdocs.test%20https%3A%2F%2Fwww.googleapis.com%2Fauth%2Fdrive%20https%3A%2F%2Fwww.googleapis.com%2Fauth%2Fdrive.photos.readonly%20https%3A%2F%2Fwww.googleapis.com%2Fauth%2Fpeopleapi.readonly&response_type=code\n",
            "\n",
            "Enter your authorization code:\n",
            "··········\n",
            "Mounted at /content/drive\n"
          ],
          "name": "stdout"
        }
      ]
    },
    {
      "cell_type": "code",
      "metadata": {
        "id": "lMYtXUnIwBBV",
        "colab_type": "code",
        "outputId": "5fd54fc2-08df-4c55-893e-3b7fd5f774ae",
        "colab": {
          "base_uri": "https://localhost:8080/",
          "height": 1000
        }
      },
      "source": [
        "\n",
        "!unzip \"drive/My Drive/Colab Notebooks/torch/dest77.zip\"\n",
        "data_dir ='dest7'\n",
        "\n",
        "# !curl https://download.pytorch.org/tutorial/hymenoptera_data.zip --output hymenoptera_data.zip\n",
        "# !unzip hymenoptera_data.zip\n",
        "# data_dir = \"hymenoptera_data\"\n"
      ],
      "execution_count": 0,
      "outputs": [
        {
          "output_type": "stream",
          "text": [
            "Archive:  drive/My Drive/Colab Notebooks/torch/dest77.zip\n",
            "   creating: dest7/\n",
            "   creating: dest7/train/\n",
            "   creating: dest7/train/goo/\n",
            "  inflating: dest7/train/goo/goo_20190907_203547.jpg  \n",
            "  inflating: dest7/train/goo/goo_20190907_203553.jpg  \n",
            "  inflating: dest7/train/goo/goo_20190907_203552.jpg  \n",
            "  inflating: dest7/train/goo/goo_20190907_203546.jpg  \n",
            "  inflating: dest7/train/goo/goo_20190907_203550.jpg  \n",
            "  inflating: dest7/train/goo/goo_20190907_203545.jpg  \n",
            "  inflating: dest7/train/goo/goo_20190907_203551.jpg  \n",
            "  inflating: dest7/train/goo/goo_20190907_203555.jpg  \n",
            "  inflating: dest7/train/goo/goo_20190907_203554.jpg  \n",
            "  inflating: dest7/train/goo/goo_20190907_203556.jpg  \n",
            "  inflating: dest7/train/goo/goo_20190907_203557.jpg  \n",
            "  inflating: dest7/train/goo/goo_20190907_203524.jpg  \n",
            "  inflating: dest7/train/goo/goo_20190907_203525.jpg  \n",
            "  inflating: dest7/train/goo/goo_20190907_203522.jpg  \n",
            "  inflating: dest7/train/goo/goo_20190907_203521.jpg  \n",
            "  inflating: dest7/train/goo/goo_20190907_203520.jpg  \n",
            "  inflating: dest7/train/goo/goo_20190907_203604.jpg  \n",
            "  inflating: dest7/train/goo/goo_20190907_203605.jpg  \n",
            "  inflating: dest7/train/goo/goo_20190907_203559.jpg  \n",
            "  inflating: dest7/train/goo/goo_20190907_203558.jpg  \n",
            "  inflating: dest7/train/goo/goo_20190907_203549.jpg  \n",
            "  inflating: dest7/train/goo/goo_20190907_203603.jpg  \n",
            "  inflating: dest7/train/goo/goo_20190907_203600.jpg  \n",
            "   creating: dest7/train/choki/\n",
            "  inflating: dest7/train/choki/choki_20190907_203732.jpg  \n",
            "  inflating: dest7/train/choki/choki_20190907_203733.jpg  \n",
            "  inflating: dest7/train/choki/choki_20190907_203647.jpg  \n",
            "  inflating: dest7/train/choki/choki_20190907_203731.jpg  \n",
            "  inflating: dest7/train/choki/choki_20190907_203730.jpg  \n",
            "  inflating: dest7/train/choki/choki_20190907_203650.jpg  \n",
            "  inflating: dest7/train/choki/choki_20190907_203709.jpg  \n",
            "  inflating: dest7/train/choki/choki_20190907_203657.jpg  \n",
            "  inflating: dest7/train/choki/choki_20190907_203713.jpg  \n",
            "  inflating: dest7/train/choki/choki_20190907_203707.jpg  \n",
            "  inflating: dest7/train/choki/choki_20190907_203706.jpg  \n",
            "  inflating: dest7/train/choki/choki_20190907_203712.jpg  \n",
            "  inflating: dest7/train/choki/choki_20190907_203658.jpg  \n",
            "  inflating: dest7/train/choki/choki_20190907_203704.jpg  \n",
            "  inflating: dest7/train/choki/choki_20190907_203710.jpg  \n",
            "  inflating: dest7/train/choki/choki_20190907_203711.jpg  \n",
            "  inflating: dest7/train/choki/choki_20190907_203705.jpg  \n",
            "  inflating: dest7/train/choki/choki_20190907_203659.jpg  \n",
            "  inflating: dest7/train/choki/choki_20190907_203649.jpg  \n",
            "  inflating: dest7/train/choki/choki_20190907_203729.jpg  \n",
            "  inflating: dest7/train/choki/choki_20190907_203701.jpg  \n",
            "  inflating: dest7/train/choki/choki_20190907_203714.jpg  \n",
            "  inflating: dest7/train/choki/choki_20190907_203648.jpg  \n",
            "  inflating: dest7/train/choki/choki_20190907_203716.jpg  \n",
            "  inflating: dest7/train/choki/choki_20190907_203702.jpg  \n",
            "  inflating: dest7/train/choki/choki_20190907_203703.jpg  \n",
            "  inflating: dest7/train/choki/choki_20190907_203717.jpg  \n",
            "   creating: dest7/train/paa/\n",
            "  inflating: dest7/train/paa/paa_20190907_203848.jpg  \n",
            "  inflating: dest7/train/paa/paa_20190907_203849.jpg  \n",
            "  inflating: dest7/train/paa/paa_20190907_203828.jpg  \n",
            "  inflating: dest7/train/paa/paa_20190907_203829.jpg  \n",
            "  inflating: dest7/train/paa/paa_20190907_203817.jpg  \n",
            "  inflating: dest7/train/paa/paa_20190907_203816.jpg  \n",
            "  inflating: dest7/train/paa/paa_20190907_203839.jpg  \n",
            "  inflating: dest7/train/paa/paa_20190907_203838.jpg  \n",
            "  inflating: dest7/train/paa/paa_20190907_203835.jpg  \n",
            "  inflating: dest7/train/paa/paa_20190907_203834.jpg  \n",
            "  inflating: dest7/train/paa/paa_20190907_203822.jpg  \n",
            "  inflating: dest7/train/paa/paa_20190907_203836.jpg  \n",
            "  inflating: dest7/train/paa/paa_20190907_203837.jpg  \n",
            "  inflating: dest7/train/paa/paa_20190907_203823.jpg  \n",
            "  inflating: dest7/train/paa/paa_20190907_203827.jpg  \n",
            "  inflating: dest7/train/paa/paa_20190907_203833.jpg  \n",
            "  inflating: dest7/train/paa/paa_20190907_203832.jpg  \n",
            "  inflating: dest7/train/paa/paa_20190907_203826.jpg  \n",
            "  inflating: dest7/train/paa/paa_20190907_203818.jpg  \n",
            "  inflating: dest7/train/paa/paa_20190907_203830.jpg  \n",
            "  inflating: dest7/train/paa/paa_20190907_203825.jpg  \n",
            "  inflating: dest7/train/paa/paa_20190907_203831.jpg  \n",
            "  inflating: dest7/train/paa/paa_20190907_203842.jpg  \n",
            "  inflating: dest7/train/paa/paa_20190907_203841.jpg  \n",
            "  inflating: dest7/train/paa/paa_20190907_203855.jpg  \n",
            "  inflating: dest7/train/paa/paa_20190907_203854.jpg  \n",
            "  inflating: dest7/train/paa/paa_20190907_203840.jpg  \n",
            "  inflating: dest7/train/paa/paa_20190907_203850.jpg  \n",
            "  inflating: dest7/train/paa/paa_20190907_203851.jpg  \n",
            "  inflating: dest7/train/paa/paa_20190907_203853.jpg  \n",
            "   creating: dest7/val/\n",
            "   creating: dest7/val/goo/\n",
            "  inflating: dest7/val/goo/goo_20190907_203436.jpg  \n",
            "  inflating: dest7/val/goo/goo_20190907_203437.jpg  \n",
            "  inflating: dest7/val/goo/goo_20190907_203450.jpg  \n",
            "  inflating: dest7/val/goo/goo_20190907_203444.jpg  \n",
            "  inflating: dest7/val/goo/goo_20190907_203518.jpg  \n",
            "  inflating: dest7/val/goo/goo_20190907_203519.jpg  \n",
            "  inflating: dest7/val/goo/goo_20190907_203452.jpg  \n",
            "  inflating: dest7/val/goo/goo_20190907_203456.jpg  \n",
            "  inflating: dest7/val/goo/goo_20190907_203455.jpg  \n",
            "  inflating: dest7/val/goo/goo_20190907_203441.jpg  \n",
            "  inflating: dest7/val/goo/goo_20190907_203509.jpg  \n",
            "  inflating: dest7/val/goo/goo_20190907_203508.jpg  \n",
            "  inflating: dest7/val/goo/goo_20190907_203440.jpg  \n",
            "  inflating: dest7/val/goo/goo_20190907_203459.jpg  \n",
            "  inflating: dest7/val/goo/goo_20190907_203511.jpg  \n",
            "  inflating: dest7/val/goo/goo_20190907_203510.jpg  \n",
            "  inflating: dest7/val/goo/goo_20190907_203504.jpg  \n",
            "  inflating: dest7/val/goo/goo_20190907_203458.jpg  \n",
            "  inflating: dest7/val/goo/goo_20190907_203512.jpg  \n",
            "  inflating: dest7/val/goo/goo_20190907_203506.jpg  \n",
            "  inflating: dest7/val/goo/goo_20190907_203507.jpg  \n",
            "  inflating: dest7/val/goo/goo_20190907_203513.jpg  \n",
            "  inflating: dest7/val/goo/goo_20190907_203517.jpg  \n",
            "  inflating: dest7/val/goo/goo_20190907_203503.jpg  \n",
            "  inflating: dest7/val/goo/goo_20190907_203502.jpg  \n",
            "  inflating: dest7/val/goo/goo_20190907_203516.jpg  \n",
            "  inflating: dest7/val/goo/goo_20190907_203448.jpg  \n",
            "  inflating: dest7/val/goo/goo_20190907_203500.jpg  \n",
            "  inflating: dest7/val/goo/goo_20190907_203514.jpg  \n",
            "  inflating: dest7/val/goo/goo_20190907_203515.jpg  \n",
            "  inflating: dest7/val/goo/goo_20190907_203501.jpg  \n",
            "  inflating: dest7/val/goo/goo_20190907_203438.jpg  \n",
            "   creating: dest7/val/choki/\n",
            "  inflating: dest7/val/choki/choki_20190907_203625.jpg  \n",
            "  inflating: dest7/val/choki/choki_20190907_203631.jpg  \n",
            "  inflating: dest7/val/choki/choki_20190907_203619.jpg  \n",
            "  inflating: dest7/val/choki/choki_20190907_203630.jpg  \n",
            "  inflating: dest7/val/choki/choki_20190907_203624.jpg  \n",
            "  inflating: dest7/val/choki/choki_20190907_203632.jpg  \n",
            "  inflating: dest7/val/choki/choki_20190907_203626.jpg  \n",
            "  inflating: dest7/val/choki/choki_20190907_203627.jpg  \n",
            "  inflating: dest7/val/choki/choki_20190907_203633.jpg  \n",
            "  inflating: dest7/val/choki/choki_20190907_203637.jpg  \n",
            "  inflating: dest7/val/choki/choki_20190907_203623.jpg  \n",
            "  inflating: dest7/val/choki/choki_20190907_203622.jpg  \n",
            "  inflating: dest7/val/choki/choki_20190907_203636.jpg  \n",
            "  inflating: dest7/val/choki/choki_20190907_203620.jpg  \n",
            "  inflating: dest7/val/choki/choki_20190907_203634.jpg  \n",
            "  inflating: dest7/val/choki/choki_20190907_203621.jpg  \n",
            "  inflating: dest7/val/choki/choki_20190907_203644.jpg  \n",
            "  inflating: dest7/val/choki/choki_20190907_203640.jpg  \n",
            "  inflating: dest7/val/choki/choki_20190907_203641.jpg  \n",
            "  inflating: dest7/val/choki/choki_20190907_203642.jpg  \n",
            "  inflating: dest7/val/choki/choki_20190907_203639.jpg  \n",
            "  inflating: dest7/val/choki/choki_20190907_203629.jpg  \n",
            "  inflating: dest7/val/choki/choki_20190907_203628.jpg  \n",
            "   creating: dest7/val/paa/\n",
            "  inflating: dest7/val/paa/paa_20190907_203753.jpg  \n",
            "  inflating: dest7/val/paa/paa_20190907_203814.jpg  \n",
            "  inflating: dest7/val/paa/paa_20190907_203800.jpg  \n",
            "  inflating: dest7/val/paa/paa_20190907_203801.jpg  \n",
            "  inflating: dest7/val/paa/paa_20190907_203815.jpg  \n",
            "  inflating: dest7/val/paa/paa_20190907_203752.jpg  \n",
            "  inflating: dest7/val/paa/paa_20190907_203750.jpg  \n",
            "  inflating: dest7/val/paa/paa_20190907_203802.jpg  \n",
            "  inflating: dest7/val/paa/paa_20190907_203751.jpg  \n",
            "  inflating: dest7/val/paa/paa_20190907_203755.jpg  \n",
            "  inflating: dest7/val/paa/paa_20190907_203806.jpg  \n",
            "  inflating: dest7/val/paa/paa_20190907_203812.jpg  \n",
            "  inflating: dest7/val/paa/paa_20190907_203813.jpg  \n",
            "  inflating: dest7/val/paa/paa_20190907_203754.jpg  \n",
            "  inflating: dest7/val/paa/paa_20190907_203756.jpg  \n",
            "  inflating: dest7/val/paa/paa_20190907_203811.jpg  \n",
            "  inflating: dest7/val/paa/paa_20190907_203805.jpg  \n",
            "  inflating: dest7/val/paa/paa_20190907_203804.jpg  \n",
            "  inflating: dest7/val/paa/paa_20190907_203757.jpg  \n",
            "  inflating: dest7/val/paa/paa_20190907_203809.jpg  \n",
            "  inflating: dest7/val/paa/paa_20190907_203808.jpg  \n",
            "  inflating: dest7/val/paa/paa_20190907_203759.jpg  \n",
            "  inflating: dest7/val/paa/paa_20190907_203758.jpg  \n",
            "  inflating: dest7/val/paa/paa_20190907_203749.jpg  \n"
          ],
          "name": "stdout"
        }
      ]
    },
    {
      "cell_type": "code",
      "metadata": {
        "id": "_cfArYpZM2qT",
        "colab_type": "code",
        "colab": {}
      },
      "source": [
        "# !ls dest7/train/goo | sed 's/.jpg//g' | awk '{print \"dest7/train/goo/\" $1 \".jpg \" \"dest7/train/goo/\" $1 \"_2.jpg\"}'  | xargs -n 2 cp\n",
        "# !ls dest7/train/choki | sed 's/.jpg//g' | awk '{print \"dest7/train/choki/\" $1 \".jpg \" \"dest7/train/choki/\" $1 \"_2.jpg\"}'  | xargs -n 2 cp\n",
        "# !ls dest7/train/paa | sed 's/.jpg//g' | awk '{print \"dest7/train/paa/\" $1 \".jpg \" \"dest7/train/paa/\" $1 \"_2.jpg\"}'  | xargs -n 2 cp\n",
        "# !ls dest7/train/goo | sed 's/.jpg//g' | awk '{print \"dest7/train/goo/\" $1 \".jpg \" \"dest7/train/goo/\" $1 \"_3.jpg\"}'  | xargs -n 2 cp\n",
        "# !ls dest7/train/goo | sed 's/.jpg//g' | awk '{print \"dest7/train/goo/\" $1 \".jpg \" \"dest7/train/goo/\" $1 \"_4.jpg\"}'  | xargs -n 2 cp\n",
        "\n",
        "# !ls dest7/train/goo | sed 's/.jpg//g' | awk '{print \"dest7/train/goo/\" $1 \".jpg \" \"dest7/train/goo/\" $1 \"_5.jpg\"}'  | xargs -n 2 cp\n",
        "\n",
        "# !ls dest7/train/goo | sed 's/.jpg//g' | awk '{print \"dest7/train/goo/\" $1 \".jpg \" \"dest7/train/goo/\" $1 \"_6.jpg\"}'  | xargs -n 2 cp\n",
        "\n",
        "# !ls dest7/train/goo | sed 's/.jpg//g' | awk '{print \"dest7/train/goo/\" $1 \".jpg \" \"dest7/train/goo/\" $1 \"_7.jpg\"}'  | xargs -n 2 cp\n",
        "\n",
        "# !ls dest7/train/goo | sed 's/.jpg//g' | awk '{print \"dest7/train/goo/\" $1 \".jpg \" \"dest7/train/goo/\" $1 \"_8.jpg\"}'  | xargs -n 2 cp\n",
        "\n",
        "# !ls dest7/train/goo | sed 's/.jpg//g' | awk '{print \"dest7/train/goo/\" $1 \".jpg \" \"dest7/train/goo/\" $1 \"_9.jpg\"}'  | xargs -n 2 cp\n",
        "\n",
        "# !ls dest7/train/goo | sed 's/.jpg//g' | awk '{print \"dest7/train/goo/\" $1 \".jpg \" \"dest7/train/goo/\" $1 \"_10.jpg\"}'  | xargs -n 2 cp\n",
        "\n",
        "\n",
        "\n"
      ],
      "execution_count": 0,
      "outputs": []
    },
    {
      "cell_type": "code",
      "metadata": {
        "id": "wUnB8MC2l-0X",
        "colab_type": "code",
        "colab": {}
      },
      "source": [
        "# goo = 0\n",
        "# choki = 2\n",
        "# paa = 5\n",
        "\n",
        "!git clone https://github.com/ardamavi/Sign-Language-Digits-Dataset.git\n",
        "!ls -d Sign-Language-Digits-Dataset/Dataset/0/*  | awk '{print  $1 \" \"  \"dest7/train/goo/\" }'  | xargs -n 2 mv\n",
        "!ls -d Sign-Language-Digits-Dataset/Dataset/2/*  | awk '{print  $1 \" \"  \"dest7/train/choki/\" }'  | xargs -n 2 mv\n",
        "!ls -d Sign-Language-Digits-Dataset/Dataset/5/*  | awk '{print  $1 \" \"  \"dest7/train/paa/\" }'  | xargs -n 2 mv\n",
        "\n",
        "!ls -d dest7/train/goo/* | grep \"IMG*\" | head -n 50 | awk '{print $1 \" \" \"dest7/val/goo/\" }' | xargs -n 2 mv\n",
        "!ls -d dest7/train/choki/* | grep \"IMG*\" | head -n 50 | awk '{print $1 \" \" \"dest7/val/choki/\" }' | xargs -n 2 mv\n",
        "!ls -d dest7/train/paa/* | grep \"IMG*\" | head -n 50 | awk '{print $1 \" \" \"dest7/val/paa/\" }' | xargs -n 2 mv"
      ],
      "execution_count": 0,
      "outputs": []
    },
    {
      "cell_type": "code",
      "metadata": {
        "id": "z1-qXzbmTlf_",
        "colab_type": "code",
        "outputId": "92079bd0-cb77-4d63-9fbe-7a76681de0a8",
        "colab": {
          "base_uri": "https://localhost:8080/",
          "height": 819
        }
      },
      "source": [
        "!ls  dest7/train/goo"
      ],
      "execution_count": 0,
      "outputs": [
        {
          "output_type": "stream",
          "text": [
            "goo_20190907_203520.jpg  IMG_4059.JPG  IMG_4554.JPG  IMG_5053.JPG  IMG_5547.JPG\n",
            "goo_20190907_203521.jpg  IMG_4069.JPG  IMG_4564.JPG  IMG_5063.JPG  IMG_5562.JPG\n",
            "goo_20190907_203522.jpg  IMG_4079.JPG  IMG_4574.JPG  IMG_5074.JPG  IMG_5572.JPG\n",
            "goo_20190907_203524.jpg  IMG_4089.JPG  IMG_4584.JPG  IMG_5091.JPG  IMG_5582.JPG\n",
            "goo_20190907_203525.jpg  IMG_4099.JPG  IMG_4594.JPG  IMG_5101.JPG  IMG_5592.JPG\n",
            "goo_20190907_203545.jpg  IMG_4109.JPG  IMG_4604.JPG  IMG_5111.JPG  IMG_5603.JPG\n",
            "goo_20190907_203546.jpg  IMG_4119.JPG  IMG_4614.JPG  IMG_5122.JPG  IMG_5615.JPG\n",
            "goo_20190907_203547.jpg  IMG_4129.JPG  IMG_4624.JPG  IMG_5132.JPG  IMG_5625.JPG\n",
            "goo_20190907_203549.jpg  IMG_4139.JPG  IMG_4634.JPG  IMG_5142.JPG  IMG_5635.JPG\n",
            "goo_20190907_203550.jpg  IMG_4149.JPG  IMG_4644.JPG  IMG_5152.JPG  IMG_5645.JPG\n",
            "goo_20190907_203551.jpg  IMG_4159.JPG  IMG_4674.JPG  IMG_5163.JPG  IMG_5655.JPG\n",
            "goo_20190907_203552.jpg  IMG_4170.JPG  IMG_4684.JPG  IMG_5173.JPG  IMG_5665.JPG\n",
            "goo_20190907_203553.jpg  IMG_4181.JPG  IMG_4694.JPG  IMG_5183.JPG  IMG_5675.JPG\n",
            "goo_20190907_203554.jpg  IMG_4193.JPG  IMG_4704.JPG  IMG_5193.JPG  IMG_5685.JPG\n",
            "goo_20190907_203555.jpg  IMG_4203.JPG  IMG_4715.JPG  IMG_5203.JPG  IMG_5695.JPG\n",
            "goo_20190907_203556.jpg  IMG_4213.JPG  IMG_4725.JPG  IMG_5213.JPG  IMG_5705.JPG\n",
            "goo_20190907_203557.jpg  IMG_4223.JPG  IMG_4735.JPG  IMG_5223.JPG  IMG_5716.JPG\n",
            "goo_20190907_203558.jpg  IMG_4233.JPG  IMG_4745.JPG  IMG_5234.JPG  IMG_5726.JPG\n",
            "goo_20190907_203559.jpg  IMG_4243.JPG  IMG_4755.JPG  IMG_5244.JPG  IMG_5736.JPG\n",
            "goo_20190907_203600.jpg  IMG_4254.JPG  IMG_4765.JPG  IMG_5255.JPG  IMG_5746.JPG\n",
            "goo_20190907_203603.jpg  IMG_4266.JPG  IMG_4776.JPG  IMG_5266.JPG  IMG_5756.JPG\n",
            "goo_20190907_203604.jpg  IMG_4276.JPG  IMG_4786.JPG  IMG_5276.JPG  IMG_5766.JPG\n",
            "goo_20190907_203605.jpg  IMG_4286.JPG  IMG_4796.JPG  IMG_5286.JPG  IMG_5776.JPG\n",
            "IMG_1118.JPG\t\t IMG_4296.JPG  IMG_4807.JPG  IMG_5297.JPG  IMG_5786.JPG\n",
            "IMG_1128.JPG\t\t IMG_4306.JPG  IMG_4826.JPG  IMG_5308.JPG  IMG_5796.JPG\n",
            "IMG_1138.JPG\t\t IMG_4316.JPG  IMG_4836.JPG  IMG_5318.JPG  IMG_5806.JPG\n",
            "IMG_1148.JPG\t\t IMG_4327.JPG  IMG_4846.JPG  IMG_5328.JPG  IMG_5816.JPG\n",
            "IMG_1158.JPG\t\t IMG_4338.JPG  IMG_4856.JPG  IMG_5341.JPG  IMG_5826.JPG\n",
            "IMG_1169.JPG\t\t IMG_4348.JPG  IMG_4866.JPG  IMG_5350.JPG  IMG_5837.JPG\n",
            "IMG_1179.JPG\t\t IMG_4359.JPG  IMG_4876.JPG  IMG_5360.JPG  IMG_5847.JPG\n",
            "IMG_1189.JPG\t\t IMG_4370.JPG  IMG_4886.JPG  IMG_5370.JPG  IMG_5857.JPG\n",
            "IMG_1199.JPG\t\t IMG_4381.JPG  IMG_4896.JPG  IMG_5380.JPG  IMG_5867.JPG\n",
            "IMG_1209.JPG\t\t IMG_4391.JPG  IMG_4906.JPG  IMG_5390.JPG  IMG_5877.JPG\n",
            "IMG_1219.JPG\t\t IMG_4403.JPG  IMG_4916.JPG  IMG_5400.JPG  IMG_5887.JPG\n",
            "IMG_1229.JPG\t\t IMG_4413.JPG  IMG_4926.JPG  IMG_5412.JPG  IMG_5897.JPG\n",
            "IMG_1239.JPG\t\t IMG_4423.JPG  IMG_4936.JPG  IMG_5422.JPG  IMG_5907.JPG\n",
            "IMG_1249.JPG\t\t IMG_4435.JPG  IMG_4946.JPG  IMG_5446.JPG  IMG_5918.JPG\n",
            "IMG_1260.JPG\t\t IMG_4446.JPG  IMG_4956.JPG  IMG_5456.JPG  IMG_5928.JPG\n",
            "IMG_1270.JPG\t\t IMG_4456.JPG  IMG_4966.JPG  IMG_5466.JPG  IMG_5938.JPG\n",
            "IMG_1280.JPG\t\t IMG_4466.JPG  IMG_4976.JPG  IMG_5476.JPG  IMG_5950.JPG\n",
            "IMG_1290.JPG\t\t IMG_4476.JPG  IMG_4986.JPG  IMG_5486.JPG  IMG_5960.JPG\n",
            "IMG_1301.JPG\t\t IMG_4486.JPG  IMG_4996.JPG  IMG_5497.JPG  IMG_5971.JPG\n",
            "IMG_1312.JPG\t\t IMG_4496.JPG  IMG_5007.JPG  IMG_5507.JPG  IMG_5981.JPG\n",
            "IMG_1322.JPG\t\t IMG_4506.JPG  IMG_5017.JPG  IMG_5517.JPG  IMG_5991.JPG\n",
            "IMG_4040.JPG\t\t IMG_4533.JPG  IMG_5028.JPG  IMG_5527.JPG\n",
            "IMG_4049.JPG\t\t IMG_4543.JPG  IMG_5042.JPG  IMG_5537.JPG\n"
          ],
          "name": "stdout"
        }
      ]
    },
    {
      "cell_type": "code",
      "metadata": {
        "id": "IfVg72w3vxxE",
        "colab_type": "code",
        "outputId": "dd8e2995-ef94-4fc7-80dd-55f4978c8359",
        "colab": {
          "base_uri": "https://localhost:8080/",
          "height": 68
        }
      },
      "source": [
        "\n",
        "# Data augmentation and normalization for training\n",
        "# Just normalization for validation\n",
        "data_transforms = {\n",
        "    'train': transforms.Compose([\n",
        "        transforms.RandomResizedCrop(224),\n",
        "        transforms.RandomHorizontalFlip(),\n",
        "        transforms.RandomGrayscale(),\n",
        "        transforms.RandomRotation(30),\n",
        "        transforms.ToTensor(),\n",
        "        transforms.Normalize([0.485, 0.456, 0.406], [0.229, 0.224, 0.225])\n",
        "    ]),\n",
        "    'val': transforms.Compose([\n",
        "        transforms.Resize(256),\n",
        "        transforms.CenterCrop(224),\n",
        "        transforms.ToTensor(),\n",
        "        transforms.Normalize([0.485, 0.456, 0.406], [0.229, 0.224, 0.225])\n",
        "    ]),\n",
        "}\n",
        "\n",
        "image_datasets = {x: datasets.ImageFolder(os.path.join(data_dir, x),\n",
        "                                          data_transforms[x])\n",
        "                  for x in ['train', 'val']}\n",
        "dataloaders = {x: torch.utils.data.DataLoader(image_datasets[x], batch_size=4,\n",
        "                                             shuffle=True, num_workers=4)\n",
        "              for x in ['train', 'val']}\n",
        "dataset_sizes = {x: len(image_datasets[x]) for x in ['train', 'val']}\n",
        "class_names = image_datasets['train'].classes\n",
        "\n",
        "device = torch.device(\"cuda:0\" if torch.cuda.is_available() else \"cpu\")\n",
        "class_names, device, dataset_sizes"
      ],
      "execution_count": 0,
      "outputs": [
        {
          "output_type": "execute_result",
          "data": {
            "text/plain": [
              "(['choki', 'goo', 'paa'],\n",
              " device(type='cuda', index=0),\n",
              " {'train': 548, 'val': 229})"
            ]
          },
          "metadata": {
            "tags": []
          },
          "execution_count": 30
        }
      ]
    },
    {
      "cell_type": "code",
      "metadata": {
        "id": "m1wAd3Aa7X6V",
        "colab_type": "code",
        "outputId": "193a6d9a-1a78-437d-fc43-e5ca624e9865",
        "colab": {
          "base_uri": "https://localhost:8080/",
          "height": 697
        }
      },
      "source": [
        "hoge = list(dataloaders['train'])\n",
        "for x in hoge:\n",
        "  print(x[0].shape)\n",
        "\n",
        "hoge = list(dataloaders['val'])\n",
        "for x in hoge:\n",
        "  print(x[0].shape)\n",
        "  \n"
      ],
      "execution_count": 0,
      "outputs": [
        {
          "output_type": "stream",
          "text": [
            "torch.Size([4, 3, 224, 224])\n",
            "torch.Size([4, 3, 224, 224])\n",
            "torch.Size([4, 3, 224, 224])\n",
            "torch.Size([4, 3, 224, 224])\n",
            "torch.Size([4, 3, 224, 224])\n",
            "torch.Size([4, 3, 224, 224])\n",
            "torch.Size([4, 3, 224, 224])\n",
            "torch.Size([4, 3, 224, 224])\n",
            "torch.Size([4, 3, 224, 224])\n",
            "torch.Size([4, 3, 224, 224])\n",
            "torch.Size([4, 3, 224, 224])\n",
            "torch.Size([4, 3, 224, 224])\n",
            "torch.Size([4, 3, 224, 224])\n",
            "torch.Size([4, 3, 224, 224])\n",
            "torch.Size([4, 3, 224, 224])\n",
            "torch.Size([4, 3, 224, 224])\n",
            "torch.Size([4, 3, 224, 224])\n",
            "torch.Size([4, 3, 224, 224])\n",
            "torch.Size([4, 3, 224, 224])\n",
            "torch.Size([4, 3, 224, 224])\n",
            "torch.Size([4, 3, 224, 224])\n",
            "torch.Size([4, 3, 224, 224])\n",
            "torch.Size([4, 3, 224, 224])\n",
            "torch.Size([4, 3, 224, 224])\n",
            "torch.Size([4, 3, 224, 224])\n",
            "torch.Size([4, 3, 224, 224])\n",
            "torch.Size([4, 3, 224, 224])\n",
            "torch.Size([4, 3, 224, 224])\n",
            "torch.Size([4, 3, 224, 224])\n",
            "torch.Size([4, 3, 224, 224])\n",
            "torch.Size([4, 3, 224, 224])\n",
            "torch.Size([4, 3, 224, 224])\n",
            "torch.Size([4, 3, 224, 224])\n",
            "torch.Size([4, 3, 224, 224])\n",
            "torch.Size([4, 3, 224, 224])\n",
            "torch.Size([4, 3, 224, 224])\n",
            "torch.Size([4, 3, 224, 224])\n",
            "torch.Size([4, 3, 224, 224])\n",
            "torch.Size([4, 3, 224, 224])\n",
            "torch.Size([4, 3, 224, 224])\n"
          ],
          "name": "stdout"
        }
      ]
    },
    {
      "cell_type": "markdown",
      "metadata": {
        "id": "S1Dxgc8kvxxJ",
        "colab_type": "text"
      },
      "source": [
        "Visualize a few images\n",
        "^^^^^^^^^^^^^^^^^^^^^^\n",
        "Let's visualize a few training images so as to understand the data\n",
        "augmentations.\n",
        "\n"
      ]
    },
    {
      "cell_type": "code",
      "metadata": {
        "id": "qyyT-i2mvxxL",
        "colab_type": "code",
        "outputId": "37bb3721-7d14-4983-af0c-b2cd5c31b8cd",
        "colab": {
          "base_uri": "https://localhost:8080/",
          "height": 148
        }
      },
      "source": [
        "def imshow(inp, title=None):\n",
        "    \"\"\"Imshow for Tensor.\"\"\"\n",
        "    inp = inp.numpy().transpose((1, 2, 0))\n",
        "    mean = np.array([0.485, 0.456, 0.406])\n",
        "    std = np.array([0.229, 0.224, 0.225])\n",
        "    inp = std * inp + mean\n",
        "    inp = np.clip(inp, 0, 1)\n",
        "    plt.imshow(inp)\n",
        "    if title is not None:\n",
        "        plt.title(title)\n",
        "    plt.pause(0.001)  # pause a bit so that plots are updated\n",
        "\n",
        "\n",
        "# Get a batch of training data\n",
        "inputs, classes = next(iter(dataloaders['train']))\n",
        "\n",
        "# Make a grid from batch\n",
        "out = torchvision.utils.make_grid(inputs)\n",
        "\n",
        "imshow(out, title=[class_names[x] for x in classes])"
      ],
      "execution_count": 0,
      "outputs": [
        {
          "output_type": "display_data",
          "data": {
            "image/png": "[encoded data removed]",
            "text/plain": [
              "<Figure size 432x288 with 1 Axes>"
            ]
          },
          "metadata": {
            "tags": []
          }
        }
      ]
    },
    {
      "cell_type": "markdown",
      "metadata": {
        "id": "Ny-Pbe5rvxxQ",
        "colab_type": "text"
      },
      "source": [
        "Training the model\n",
        "------------------\n",
        "\n",
        "Now, let's write a general function to train a model. Here, we will\n",
        "illustrate:\n",
        "\n",
        "-  Scheduling the learning rate\n",
        "-  Saving the best model\n",
        "\n",
        "In the following, parameter ``scheduler`` is an LR scheduler object from\n",
        "``torch.optim.lr_scheduler``.\n",
        "\n"
      ]
    },
    {
      "cell_type": "code",
      "metadata": {
        "id": "8AEdrG_UvxxR",
        "colab_type": "code",
        "colab": {}
      },
      "source": [
        "def train_model(model, criterion, optimizer, scheduler, num_epochs=25):\n",
        "    since = time.time()\n",
        "\n",
        "\n",
        "\n",
        "    best_model_wts = copy.deepcopy(model.state_dict())\n",
        "    best_acc = 0.0\n",
        "\n",
        "    for epoch in range(num_epochs):\n",
        "        print('Epoch {}/{}'.format(epoch, num_epochs - 1))\n",
        "        print('-' * 10)\n",
        "\n",
        "        # Each epoch has a training and validation phase\n",
        "        for phase in ['train', 'val']:\n",
        "            if phase == 'train':\n",
        "                scheduler.step()\n",
        "                model.train()  # Set model to training mode\n",
        "            else:\n",
        "                model.eval()   # Set model to evaluate mode\n",
        "\n",
        "            running_loss = 0.0\n",
        "            running_corrects = 0\n",
        "\n",
        "            # Iterate over data.\n",
        "            for inputs, labels in dataloaders[phase]:\n",
        "                inputs = inputs.to(device)\n",
        "                labels = labels.to(device)\n",
        "\n",
        "                # zero the parameter gradients\n",
        "                optimizer.zero_grad()\n",
        "\n",
        "                # forward\n",
        "                # track history if only in train\n",
        "                with torch.set_grad_enabled(phase == 'train'):\n",
        "                    outputs = model(inputs)\n",
        "                    _, preds = torch.max(outputs, 1)\n",
        "                    loss = criterion(outputs, labels)\n",
        "\n",
        "                    # backward + optimize only if in training phase\n",
        "                    if phase == 'train':\n",
        "                        loss.backward()\n",
        "                        optimizer.step()\n",
        "\n",
        "                # statistics\n",
        "                running_loss += loss.item() * inputs.size(0)\n",
        "                running_corrects += torch.sum(preds == labels.data)\n",
        "\n",
        "            epoch_loss = running_loss / dataset_sizes[phase]\n",
        "            epoch_acc = running_corrects.double() / dataset_sizes[phase]\n",
        "\n",
        "            print('{} Loss: {:.4f} Acc: {:.4f}'.format(\n",
        "                phase, epoch_loss, epoch_acc))\n",
        "\n",
        "            # deep copy the model\n",
        "            if phase == 'val' and epoch_acc > best_acc:\n",
        "                best_acc = epoch_acc\n",
        "                best_model_wts = copy.deepcopy(model.state_dict())\n",
        "\n",
        "        print()\n",
        "\n",
        "    time_elapsed = time.time() - since\n",
        "    print('Training complete in {:.0f}m {:.0f}s'.format(\n",
        "        time_elapsed // 60, time_elapsed % 60))\n",
        "    print('Best val Acc: {:4f}'.format(best_acc))\n",
        "\n",
        "    # load best model weights\n",
        "    model.load_state_dict(best_model_wts)\n",
        "    return model"
      ],
      "execution_count": 0,
      "outputs": []
    },
    {
      "cell_type": "markdown",
      "metadata": {
        "id": "wPGEw4RzvxxV",
        "colab_type": "text"
      },
      "source": [
        "Visualizing the model predictions\n",
        "^^^^^^^^^^^^^^^^^^^^^^^^^^^^^^^^^\n",
        "\n",
        "Generic function to display predictions for a few images\n",
        "\n",
        "\n"
      ]
    },
    {
      "cell_type": "code",
      "metadata": {
        "id": "7tWXUY9yvxxX",
        "colab_type": "code",
        "colab": {}
      },
      "source": [
        "def visualize_model(model, num_images=6):\n",
        "    was_training = model.training\n",
        "    model.eval()\n",
        "    images_so_far = 0\n",
        "    fig = plt.figure()\n",
        "\n",
        "    with torch.no_grad():\n",
        "        for i, (inputs, labels) in enumerate(dataloaders['val']):\n",
        "            inputs = inputs.to(device)\n",
        "            labels = labels.to(device)\n",
        "\n",
        "            outputs = model(inputs)\n",
        "            _, preds = torch.max(outputs, 1)\n",
        "\n",
        "            for j in range(inputs.size()[0]):\n",
        "                images_so_far += 1\n",
        "                ax = plt.subplot(num_images//2, 2, images_so_far)\n",
        "                ax.axis('off')\n",
        "                ax.set_title('predicted: {}'.format(class_names[preds[j]]))\n",
        "                imshow(inputs.cpu().data[j])\n",
        "\n",
        "                if images_so_far == num_images:\n",
        "                    model.train(mode=was_training)\n",
        "                    return\n",
        "        model.train(mode=was_training)"
      ],
      "execution_count": 0,
      "outputs": []
    },
    {
      "cell_type": "code",
      "metadata": {
        "id": "bIO2USx76bbk",
        "colab_type": "code",
        "colab": {}
      },
      "source": [
        "!rm -r ~/.cache/torch"
      ],
      "execution_count": 0,
      "outputs": []
    },
    {
      "cell_type": "code",
      "metadata": {
        "id": "o4pjxN1Ovxxl",
        "colab_type": "code",
        "outputId": "ea990278-a93b-42b3-d24e-b5e7a0e2d6a7",
        "colab": {
          "base_uri": "https://localhost:8080/",
          "height": 189
        }
      },
      "source": [
        "visualize_model(model_ft)"
      ],
      "execution_count": 40,
      "outputs": [
        {
          "output_type": "error",
          "ename": "NameError",
          "evalue": "ignored",
          "traceback": [
            "\u001b[0;31m---------------------------------------------------------------------------\u001b[0m",
            "\u001b[0;31mNameError\u001b[0m                                 Traceback (most recent call last)",
            "\u001b[0;32m<ipython-input-40-72e004aa6e49>\u001b[0m in \u001b[0;36m<module>\u001b[0;34m()\u001b[0m\n\u001b[0;32m----> 1\u001b[0;31m \u001b[0mvisualize_model\u001b[0m\u001b[0;34m(\u001b[0m\u001b[0mmodel_ft\u001b[0m\u001b[0;34m)\u001b[0m\u001b[0;34m\u001b[0m\u001b[0;34m\u001b[0m\u001b[0m\n\u001b[0m",
            "\u001b[0;31mNameError\u001b[0m: name 'model_ft' is not defined"
          ]
        }
      ]
    },
    {
      "cell_type": "markdown",
      "metadata": {
        "id": "0M71lwFbvxxq",
        "colab_type": "text"
      },
      "source": [
        "ConvNet as fixed feature extractor\n",
        "----------------------------------\n",
        "\n",
        "Here, we need to freeze all the network except the final layer. We need\n",
        "to set ``requires_grad == False`` to freeze the parameters so that the\n",
        "gradients are not computed in ``backward()``.\n",
        "\n",
        "You can read more about this in the documentation\n",
        "`here <http://pytorch.org/docs/notes/autograd.html#excluding-subgraphs-from-backward>`__.\n",
        "\n",
        "\n"
      ]
    },
    {
      "cell_type": "code",
      "metadata": {
        "id": "bfMpmuQIvxxr",
        "colab_type": "code",
        "outputId": "42624c79-0eaa-4841-daec-75ad6273f6ad",
        "colab": {
          "base_uri": "https://localhost:8080/",
          "height": 51
        }
      },
      "source": [
        "%time\n",
        "# model_conv = torchvision.models.resnet18(pretrained=True)\n",
        "model_conv = torchvision.models.resnet50(pretrained=True)\n",
        "\n",
        "# resnet50の特徴をそのまま使うためにbackwardをoff\n",
        "for param in model_conv.parameters():\n",
        "    param.requires_grad = False\n",
        "\n",
        "# Parameters of newly constructed modules have requires_grad=True by default\n",
        "num_ftrs = model_conv.fc.in_features\n",
        "model_conv.fc = nn.Linear(num_ftrs, len(class_names))\n",
        "\n",
        "model_conv = model_conv.to(device)\n",
        "\n",
        "criterion = nn.CrossEntropyLoss()\n",
        "\n",
        "# Observe that only parameters of final layer are being optimized as\n",
        "# opoosed to before.\n",
        "optimizer_conv = optim.SGD(model_conv.fc.parameters(), lr=0.001, momentum=0.9)\n",
        "\n",
        "# Decay LR by a factor of 0.1 every 7 epochs\n",
        "exp_lr_scheduler = lr_scheduler.StepLR(optimizer_conv, step_size=7, gamma=0.1)"
      ],
      "execution_count": 0,
      "outputs": [
        {
          "output_type": "stream",
          "text": [
            "CPU times: user 3 µs, sys: 1e+03 ns, total: 4 µs\n",
            "Wall time: 8.82 µs\n"
          ],
          "name": "stdout"
        }
      ]
    },
    {
      "cell_type": "markdown",
      "metadata": {
        "id": "sJcNpA6Svxxv",
        "colab_type": "text"
      },
      "source": [
        "Train and evaluate\n",
        "^^^^^^^^^^^^^^^^^^\n",
        "\n",
        "On CPU this will take about half the time compared to previous scenario.\n",
        "This is expected as gradients don't need to be computed for most of the\n",
        "network. However, forward does need to be computed.\n",
        "\n",
        "\n"
      ]
    },
    {
      "cell_type": "code",
      "metadata": {
        "id": "RHBfvWgmvxxw",
        "colab_type": "code",
        "outputId": "5e95c6b8-5dda-4f50-ba6b-f7310b9bb7f0",
        "colab": {
          "base_uri": "https://localhost:8080/",
          "height": 1000
        }
      },
      "source": [
        "%time\n",
        "model_conv = train_model(model_conv, criterion, optimizer_conv,\n",
        "                         exp_lr_scheduler, num_epochs=25)"
      ],
      "execution_count": 0,
      "outputs": [
        {
          "output_type": "stream",
          "text": [
            "CPU times: user 4 µs, sys: 0 ns, total: 4 µs\n",
            "Wall time: 8.58 µs\n",
            "Epoch 0/24\n",
            "----------\n",
            "train Loss: 0.9286 Acc: 0.5821\n",
            "val Loss: 0.9810 Acc: 0.3886\n",
            "\n",
            "Epoch 1/24\n",
            "----------\n",
            "train Loss: 0.7413 Acc: 0.6989\n",
            "val Loss: 0.5120 Acc: 0.7686\n",
            "\n",
            "Epoch 2/24\n",
            "----------\n",
            "train Loss: 0.6948 Acc: 0.7153\n",
            "val Loss: 0.4391 Acc: 0.8384\n",
            "\n",
            "Epoch 3/24\n",
            "----------\n",
            "train Loss: 0.6994 Acc: 0.6989\n",
            "val Loss: 0.4554 Acc: 0.8603\n",
            "\n",
            "Epoch 4/24\n",
            "----------\n",
            "train Loss: 0.6394 Acc: 0.7318\n",
            "val Loss: 0.4305 Acc: 0.8515\n",
            "\n",
            "Epoch 5/24\n",
            "----------\n",
            "train Loss: 0.6564 Acc: 0.7245\n",
            "val Loss: 0.5124 Acc: 0.7642\n",
            "\n",
            "Epoch 6/24\n",
            "----------\n",
            "train Loss: 0.5167 Acc: 0.7737\n",
            "val Loss: 0.3818 Acc: 0.8472\n",
            "\n",
            "Epoch 7/24\n",
            "----------\n",
            "train Loss: 0.5057 Acc: 0.7828\n",
            "val Loss: 0.4533 Acc: 0.7860\n",
            "\n",
            "Epoch 8/24\n",
            "----------\n",
            "train Loss: 0.5477 Acc: 0.7774\n",
            "val Loss: 0.4089 Acc: 0.8253\n",
            "\n",
            "Epoch 9/24\n",
            "----------\n",
            "train Loss: 0.5237 Acc: 0.7938\n",
            "val Loss: 0.3559 Acc: 0.8603\n",
            "\n",
            "Epoch 10/24\n",
            "----------\n",
            "train Loss: 0.4946 Acc: 0.7865\n",
            "val Loss: 0.3830 Acc: 0.8384\n",
            "\n",
            "Epoch 11/24\n",
            "----------\n",
            "train Loss: 0.5042 Acc: 0.8120\n",
            "val Loss: 0.3974 Acc: 0.8079\n",
            "\n",
            "Epoch 12/24\n",
            "----------\n",
            "train Loss: 0.5163 Acc: 0.7810\n",
            "val Loss: 0.3544 Acc: 0.8690\n",
            "\n",
            "Epoch 13/24\n",
            "----------\n",
            "train Loss: 0.4976 Acc: 0.7920\n",
            "val Loss: 0.3628 Acc: 0.8734\n",
            "\n",
            "Epoch 14/24\n",
            "----------\n",
            "train Loss: 0.5193 Acc: 0.7828\n",
            "val Loss: 0.3643 Acc: 0.8821\n",
            "\n",
            "Epoch 15/24\n",
            "----------\n",
            "train Loss: 0.4718 Acc: 0.8084\n",
            "val Loss: 0.3591 Acc: 0.8777\n",
            "\n",
            "Epoch 16/24\n",
            "----------\n",
            "train Loss: 0.5115 Acc: 0.7956\n",
            "val Loss: 0.3839 Acc: 0.8559\n",
            "\n",
            "Epoch 17/24\n",
            "----------\n",
            "train Loss: 0.4507 Acc: 0.8193\n",
            "val Loss: 0.3670 Acc: 0.8515\n",
            "\n",
            "Epoch 18/24\n",
            "----------\n",
            "train Loss: 0.4874 Acc: 0.8102\n",
            "val Loss: 0.3761 Acc: 0.8515\n",
            "\n",
            "Epoch 19/24\n",
            "----------\n",
            "train Loss: 0.4890 Acc: 0.7993\n",
            "val Loss: 0.3735 Acc: 0.8690\n",
            "\n",
            "Epoch 20/24\n",
            "----------\n",
            "train Loss: 0.4941 Acc: 0.7938\n",
            "val Loss: 0.3503 Acc: 0.8952\n",
            "\n",
            "Epoch 21/24\n",
            "----------\n",
            "train Loss: 0.4652 Acc: 0.8120\n",
            "val Loss: 0.3615 Acc: 0.8690\n",
            "\n",
            "Epoch 22/24\n",
            "----------\n",
            "train Loss: 0.5135 Acc: 0.7993\n",
            "val Loss: 0.3747 Acc: 0.8690\n",
            "\n",
            "Epoch 23/24\n",
            "----------\n",
            "train Loss: 0.4917 Acc: 0.7737\n",
            "val Loss: 0.3680 Acc: 0.8603\n",
            "\n",
            "Epoch 24/24\n",
            "----------\n",
            "train Loss: 0.5335 Acc: 0.7737\n",
            "val Loss: 0.3738 Acc: 0.8821\n",
            "\n",
            "Training complete in 3m 42s\n",
            "Best val Acc: 0.895197\n"
          ],
          "name": "stdout"
        }
      ]
    },
    {
      "cell_type": "code",
      "metadata": {
        "id": "eWXx96sdvxx1",
        "colab_type": "code",
        "outputId": "27dfa0f7-1d8f-440f-a698-d93078ff8bf4",
        "colab": {
          "base_uri": "https://localhost:8080/",
          "height": 683
        }
      },
      "source": [
        "visualize_model(model_conv)\n",
        "\n",
        "plt.ioff()\n",
        "plt.show()"
      ],
      "execution_count": 0,
      "outputs": [
        {
          "output_type": "display_data",
          "data": {
            "image/png": "[encoded data removed]",
            "text/plain": [
              "<Figure size 432x288 with 1 Axes>"
            ]
          },
          "metadata": {
            "tags": []
          }
        },
        {
          "output_type": "display_data",
          "data": {
            "image/png": "[encoded data removed]",
            "text/plain": [
              "<Figure size 432x288 with 1 Axes>"
            ]
          },
          "metadata": {
            "tags": []
          }
        },
        {
          "output_type": "display_data",
          "data": {
            "image/png": "[encoded data removed]",
            "text/plain": [
              "<Figure size 432x288 with 1 Axes>"
            ]
          },
          "metadata": {
            "tags": []
          }
        },
        {
          "output_type": "display_data",
          "data": {
            "image/png": "[encoded data removed]",
            "text/plain": [
              "<Figure size 432x288 with 1 Axes>"
            ]
          },
          "metadata": {
            "tags": []
          }
        },
        {
          "output_type": "display_data",
          "data": {
            "image/png": "[encoded data removed]",
            "text/plain": [
              "<Figure size 432x288 with 1 Axes>"
            ]
          },
          "metadata": {
            "tags": []
          }
        },
        {
          "output_type": "display_data",
          "data": {
            "image/png": "[encoded data removed]",
            "text/plain": [
              "<Figure size 432x288 with 1 Axes>"
            ]
          },
          "metadata": {
            "tags": []
          }
        }
      ]
    },
    {
      "cell_type": "code",
      "metadata": {
        "id": "Qqw8zW_n6KpP",
        "colab_type": "code",
        "outputId": "fced026e-b7fa-407e-e48e-eea76a1a2918",
        "colab": {
          "base_uri": "https://localhost:8080/",
          "height": 88
        }
      },
      "source": [
        "!curl https://www.photolibrary.jp/mhd7/img375/450-20141229110838146588.jpg -o choki.jpg\n",
        "# !curl https://d1f5hsy4d47upe.cloudfront.net/88/887266c428f2361d9f273cc8d4e86494_t.jpeg -o goo.jpg"
      ],
      "execution_count": 0,
      "outputs": [
        {
          "output_type": "stream",
          "text": [
            "  % Total    % Received % Xferd  Average Speed   Time    Time     Time  Current\n",
            "                                 Dload  Upload   Total   Spent    Left  Speed\n",
            "100 38378  100 38378    0     0  17916      0  0:00:02  0:00:02 --:--:-- 17916\n"
          ],
          "name": "stdout"
        }
      ]
    },
    {
      "cell_type": "code",
      "metadata": {
        "id": "BJS5T0DQbca7",
        "colab_type": "code",
        "outputId": "48ded0d7-5afe-499a-ee38-3ee990ae2f77",
        "colab": {
          "base_uri": "https://localhost:8080/",
          "height": 80
        }
      },
      "source": [
        "# torch.save(model_conv.state_dict(), \"drive/My Drive/Colab Notebooks/model.dat\")\n",
        "!ls \"drive/My Drive/Colab Notebooks/\""
      ],
      "execution_count": 0,
      "outputs": [
        {
          "output_type": "stream",
          "text": [
            " iida\t      model.dat   transfer_learning_janken.ipynb\n",
            " iida.ipynb   torch\t 'transfer_learning_tutorial.ipynb のコピー'\n"
          ],
          "name": "stdout"
        }
      ]
    },
    {
      "cell_type": "code",
      "metadata": {
        "id": "l5vPvh8Y5rJ9",
        "colab_type": "code",
        "outputId": "e0273af0-8dfe-466a-b393-b497e083cca7",
        "colab": {
          "base_uri": "https://localhost:8080/",
          "height": 68
        }
      },
      "source": [
        "%time\n",
        "from PIL import Image\n",
        "\n",
        "data_transform = transforms.Compose([\n",
        "        transforms.Resize(256),\n",
        "        transforms.CenterCrop(224),\n",
        "        transforms.ToTensor(),\n",
        "        transforms.Normalize([0.485, 0.456, 0.406], [0.229, 0.224, 0.225])])\n",
        "\n",
        "image = Image.open('choki.jpg')\n",
        "\n",
        "image = data_transform(image).unsqueeze(0).cuda()\n",
        "\n",
        "model_conv.eval()\n",
        "out = model_conv(image)\n",
        "# Find the predicted class\n",
        "print(\"Predicted class is: {}\".format(class_names[out.argmax()]))"
      ],
      "execution_count": 0,
      "outputs": [
        {
          "output_type": "stream",
          "text": [
            "CPU times: user 1e+03 ns, sys: 1e+03 ns, total: 2 µs\n",
            "Wall time: 5.72 µs\n",
            "Predicted class is: choki\n"
          ],
          "name": "stdout"
        }
      ]
    },
    {
      "cell_type": "code",
      "metadata": {
        "id": "_1jy3DOb-AZr",
        "colab_type": "code",
        "colab": {}
      },
      "source": [
        "torch.save(model_conv.state_dict(), \"drive/My Drive/Colab Notebooks/resnet50_5.dat\")"
      ],
      "execution_count": 0,
      "outputs": []
    },
    {
      "cell_type": "code",
      "metadata": {
        "id": "5JqrutQMFg4g",
        "colab_type": "code",
        "colab": {}
      },
      "source": [
        "!ls dest7/train"
      ],
      "execution_count": 0,
      "outputs": []
    },
    {
      "cell_type": "code",
      "metadata": {
        "id": "RkhR-y0-CcNu",
        "colab_type": "code",
        "outputId": "c987007a-b801-4b8b-e4be-538141873753",
        "colab": {
          "base_uri": "https://localhost:8080/",
          "height": 241
        }
      },
      "source": [
        "from PIL import Image\n",
        "\n",
        "\n",
        "model_path = \"drive/My Drive/Colab Notebooks/resnet50_5.dat\"\n",
        "class_num = len(class_names)\n",
        "def init_model():\n",
        "    model_conv = torchvision.models.resnet50()\n",
        "    for param in model_conv.parameters():\n",
        "        param.requires_grad = False\n",
        "        \n",
        "    num_ftrs = model_conv.fc.in_features\n",
        "    model_conv.fc = nn.Linear(num_ftrs, class_num)\n",
        "\n",
        "    device = torch.device(\"cuda:0\" if torch.cuda.is_available() else \"cpu\")\n",
        "    print(device)\n",
        "    model_conv = model_conv.to(device)\n",
        "    print(\"start loading\")\n",
        "    model_conv.load_state_dict(torch.load(model_path))\n",
        "    print(\"finish loading\")\n",
        "    model_conv.eval()\n",
        "    return model_conv\n",
        "  \n",
        "def predict(image, model):\n",
        "    # model_conv = init_model()\n",
        "    data_transform = transforms.Compose([\n",
        "            transforms.Resize(256),\n",
        "            transforms.CenterCrop(224),\n",
        "            transforms.ToTensor(),\n",
        "            transforms.Normalize([0.485, 0.456, 0.406], [0.229, 0.224, 0.225])])\n",
        "\n",
        "    image = data_transform(image).unsqueeze(0).cuda()\n",
        "    print(\"start predicting\")\n",
        "    out = model(image)\n",
        "    print(\"finish predicting\", out.argmax())\n",
        "    print(out, out.argmax())\n",
        "    class_name = class_names[out.argmax()]\n",
        "    print(\"Predicted class is: {}\".format(class_name))\n",
        "    return class_name\n",
        "\n",
        "model_conv2 =  init_model()\n",
        "\n",
        "image = Image.open('choki.jpg')\n",
        "predict(image, model_conv2)\n",
        "\n",
        "image = Image.open('goo.jpg')\n",
        "predict(image, model_conv2)"
      ],
      "execution_count": 0,
      "outputs": [
        {
          "output_type": "stream",
          "text": [
            "cuda:0\n",
            "start loading\n",
            "finish loading\n",
            "start predicting\n",
            "finish predicting tensor(0, device='cuda:0')\n",
            "tensor([[ 0.1782, -0.3271, -0.1551]], device='cuda:0', grad_fn=<AddmmBackward>) tensor(0, device='cuda:0')\n",
            "Predicted class is: choki\n",
            "start predicting\n",
            "finish predicting tensor(0, device='cuda:0')\n",
            "tensor([[ 0.1460, -0.2026, -0.3004]], device='cuda:0', grad_fn=<AddmmBackward>) tensor(0, device='cuda:0')\n",
            "Predicted class is: choki\n"
          ],
          "name": "stdout"
        },
        {
          "output_type": "execute_result",
          "data": {
            "text/plain": [
              "'choki'"
            ]
          },
          "metadata": {
            "tags": []
          },
          "execution_count": 39
        }
      ]
    }
  ]
}