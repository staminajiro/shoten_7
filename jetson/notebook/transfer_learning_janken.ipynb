{
  "nbformat": 4,
  "nbformat_minor": 0,
  "metadata": {
    "kernelspec": {
      "name": "python3",
      "display_name": "Python 3"
    },
    "language_info": {
      "codemirror_mode": {
        "name": "ipython",
        "version": 3
      },
      "file_extension": ".py",
      "mimetype": "text/x-python",
      "name": "python",
      "nbconvert_exporter": "python",
      "pygments_lexer": "ipython3",
      "version": "3.6.6"
    },
    "colab": {
      "name": "transfer_learning_janken.ipynb",
      "version": "0.3.2",
      "provenance": [],
      "collapsed_sections": []
    },
    "accelerator": "GPU"
  },
  "cells": [
    {
      "cell_type": "markdown",
      "metadata": {
        "id": "-oWZgrnvvxw2",
        "colab_type": "text"
      },
      "source": [
        "\n",
        "Transfer Learning Tutorial\n",
        "==========================\n",
        "**Author**: `Sasank Chilamkurthy <https://chsasank.github.io>`_\n",
        "\n",
        "In this tutorial, you will learn how to train your network using\n",
        "transfer learning. You can read more about the transfer learning at `cs231n\n",
        "notes <http://cs231n.github.io/transfer-learning/>`__\n",
        "\n",
        "Quoting these notes,\n",
        "\n",
        "    In practice, very few people train an entire Convolutional Network\n",
        "    from scratch (with random initialization), because it is relatively\n",
        "    rare to have a dataset of sufficient size. Instead, it is common to\n",
        "    pretrain a ConvNet on a very large dataset (e.g. ImageNet, which\n",
        "    contains 1.2 million images with 1000 categories), and then use the\n",
        "    ConvNet either as an initialization or a fixed feature extractor for\n",
        "    the task of interest.\n",
        "\n",
        "These two major transfer learning scenarios look as follows:\n",
        "\n",
        "-  **Finetuning the convnet**: Instead of random initializaion, we\n",
        "   initialize the network with a pretrained network, like the one that is\n",
        "   trained on imagenet 1000 dataset. Rest of the training looks as\n",
        "   usual.\n",
        "-  **ConvNet as fixed feature extractor**: Here, we will freeze the weights\n",
        "   for all of the network except that of the final fully connected\n",
        "   layer. This last fully connected layer is replaced with a new one\n",
        "   with random weights and only this layer is trained.\n",
        "\n",
        "\n"
      ]
    },
    {
      "cell_type": "code",
      "metadata": {
        "id": "KXrZbOfQvxw6",
        "colab_type": "code",
        "colab": {}
      },
      "source": [
        "%matplotlib inline\n",
        "\n",
        "# License: BSD\n",
        "# Author: Sasank Chilamkurthy\n",
        "\n",
        "from __future__ import print_function, division\n",
        "\n",
        "import torch\n",
        "import torch.nn as nn\n",
        "import torch.optim as optim\n",
        "from torch.optim import lr_scheduler\n",
        "import numpy as np\n",
        "import torchvision\n",
        "from torchvision import datasets, models, transforms\n",
        "import matplotlib.pyplot as plt\n",
        "import time\n",
        "import os\n",
        "import copy\n",
        "\n",
        "plt.ion()   # interactive mode"
      ],
      "execution_count": 0,
      "outputs": []
    },
    {
      "cell_type": "code",
      "metadata": {
        "id": "3V5cgR2ux4gf",
        "colab_type": "code",
        "outputId": "e70a41f3-50b2-4070-be6b-e65fa8b156d6",
        "colab": {
          "base_uri": "https://localhost:8080/",
          "height": 340
        }
      },
      "source": [
        "print(torch.cuda.is_available())\n",
        "print(torch.cuda.current_device())\n",
        "!nvidia-smi"
      ],
      "execution_count": 3,
      "outputs": [
        {
          "output_type": "stream",
          "text": [
            "True\n",
            "0\n",
            "Fri Sep  6 14:17:57 2019       \n",
            "+-----------------------------------------------------------------------------+\n",
            "| NVIDIA-SMI 430.40       Driver Version: 418.67       CUDA Version: 10.1     |\n",
            "|-------------------------------+----------------------+----------------------+\n",
            "| GPU  Name        Persistence-M| Bus-Id        Disp.A | Volatile Uncorr. ECC |\n",
            "| Fan  Temp  Perf  Pwr:Usage/Cap|         Memory-Usage | GPU-Util  Compute M. |\n",
            "|===============================+======================+======================|\n",
            "|   0  Tesla T4            Off  | 00000000:00:04.0 Off |                    0 |\n",
            "| N/A   44C    P8    10W /  70W |     10MiB / 15079MiB |      0%      Default |\n",
            "+-------------------------------+----------------------+----------------------+\n",
            "                                                                               \n",
            "+-----------------------------------------------------------------------------+\n",
            "| Processes:                                                       GPU Memory |\n",
            "|  GPU       PID   Type   Process name                             Usage      |\n",
            "|=============================================================================|\n",
            "|  No running processes found                                                 |\n",
            "+-----------------------------------------------------------------------------+\n"
          ],
          "name": "stdout"
        }
      ]
    },
    {
      "cell_type": "markdown",
      "metadata": {
        "id": "wdPwJ5novxxB",
        "colab_type": "text"
      },
      "source": [
        "Load Data\n",
        "---------\n",
        "\n",
        "We will use torchvision and torch.utils.data packages for loading the\n",
        "data.\n",
        "\n",
        "The problem we're going to solve today is to train a model to classify\n",
        "**ants** and **bees**. We have about 120 training images each for ants and bees.\n",
        "There are 75 validation images for each class. Usually, this is a very\n",
        "small dataset to generalize upon, if trained from scratch. Since we\n",
        "are using transfer learning, we should be able to generalize reasonably\n",
        "well.\n",
        "\n",
        "This dataset is a very small subset of imagenet.\n",
        "\n",
        ".. Note ::\n",
        "   Download the data from\n",
        "   `here <https://download.pytorch.org/tutorial/hymenoptera_data.zip>`_\n",
        "   and extract it to the current directory.\n",
        "\n"
      ]
    },
    {
      "cell_type": "code",
      "metadata": {
        "id": "CN02TVHf0j5_",
        "colab_type": "code",
        "outputId": "2bd4ee5a-3c71-4f50-c4bc-185028ceb5a5",
        "colab": {
          "base_uri": "https://localhost:8080/",
          "height": 129
        }
      },
      "source": [
        "from google.colab import drive\n",
        "drive.mount('/content/drive', force_remount=True)\n"
      ],
      "execution_count": 2,
      "outputs": [
        {
          "output_type": "stream",
          "text": [
            "Go to this URL in a browser: https://accounts.google.com/o/oauth2/auth?client_id=947318989803-6bn6qk8qdgf4n4g3pfee6491hc0brc4i.apps.googleusercontent.com&redirect_uri=urn%3Aietf%3Awg%3Aoauth%3A2.0%3Aoob&scope=email%20https%3A%2F%2Fwww.googleapis.com%2Fauth%2Fdocs.test%20https%3A%2F%2Fwww.googleapis.com%2Fauth%2Fdrive%20https%3A%2F%2Fwww.googleapis.com%2Fauth%2Fdrive.photos.readonly%20https%3A%2F%2Fwww.googleapis.com%2Fauth%2Fpeopleapi.readonly&response_type=code\n",
            "\n",
            "Enter your authorization code:\n",
            "··········\n",
            "Mounted at /content/drive\n"
          ],
          "name": "stdout"
        }
      ]
    },
    {
      "cell_type": "code",
      "metadata": {
        "id": "lMYtXUnIwBBV",
        "colab_type": "code",
        "colab": {}
      },
      "source": [
        "\n",
        "dirpath = 'drive/My Drive/Colab Notebooks/torch/'\n",
        "\n",
        "data_dir =dirpath + 'dest'\n",
        "\n",
        "# !ls sample_data\n",
        "# !mkdir hymenoptera_data\n",
        "# !curl https://download.pytorch.org/tutorial/hymenoptera_data.zip --output hymenoptera_data.zip\n",
        "# !unzip hymenoptera_data.zip\n",
        "# data_dir = \"hymenoptera_data\"\n",
        "\n",
        "# ! cp -r drive/My Drive/Colab Notebooks/"
      ],
      "execution_count": 0,
      "outputs": []
    },
    {
      "cell_type": "code",
      "metadata": {
        "id": "IfVg72w3vxxE",
        "colab_type": "code",
        "outputId": "cb6cb1a1-2622-4bde-8400-e0f9619dfe88",
        "colab": {
          "base_uri": "https://localhost:8080/",
          "height": 34
        }
      },
      "source": [
        "# Data augmentation and normalization for training\n",
        "# Just normalization for validation\n",
        "data_transforms = {\n",
        "    'train': transforms.Compose([\n",
        "        transforms.RandomResizedCrop(224),\n",
        "        transforms.RandomHorizontalFlip(),\n",
        "        transforms.ToTensor(),\n",
        "        transforms.Normalize([0.485, 0.456, 0.406], [0.229, 0.224, 0.225])\n",
        "    ]),\n",
        "    'val': transforms.Compose([\n",
        "        transforms.Resize(256),\n",
        "        transforms.CenterCrop(224),\n",
        "        transforms.ToTensor(),\n",
        "        transforms.Normalize([0.485, 0.456, 0.406], [0.229, 0.224, 0.225])\n",
        "    ]),\n",
        "}\n",
        "\n",
        "image_datasets = {x: datasets.ImageFolder(os.path.join(data_dir, x),\n",
        "                                          data_transforms[x])\n",
        "                  for x in ['train', 'val']}\n",
        "dataloaders = {x: torch.utils.data.DataLoader(image_datasets[x], batch_size=4,\n",
        "                                             shuffle=True, num_workers=4)\n",
        "              for x in ['train', 'val']}\n",
        "dataset_sizes = {x: len(image_datasets[x]) for x in ['train', 'val']}\n",
        "class_names = image_datasets['train'].classes\n",
        "\n",
        "device = torch.device(\"cuda:0\" if torch.cuda.is_available() else \"cpu\")\n",
        "class_names, device, dataset_sizes"
      ],
      "execution_count": 4,
      "outputs": [
        {
          "output_type": "execute_result",
          "data": {
            "text/plain": [
              "(['choki', 'goo'], device(type='cuda', index=0), {'train': 37, 'val': 19})"
            ]
          },
          "metadata": {
            "tags": []
          },
          "execution_count": 4
        }
      ]
    },
    {
      "cell_type": "markdown",
      "metadata": {
        "id": "S1Dxgc8kvxxJ",
        "colab_type": "text"
      },
      "source": [
        "Visualize a few images\n",
        "^^^^^^^^^^^^^^^^^^^^^^\n",
        "Let's visualize a few training images so as to understand the data\n",
        "augmentations.\n",
        "\n"
      ]
    },
    {
      "cell_type": "code",
      "metadata": {
        "id": "qyyT-i2mvxxL",
        "colab_type": "code",
        "outputId": "06accf12-f06f-4a26-8976-5ed3bc5d977f",
        "colab": {
          "base_uri": "https://localhost:8080/",
          "height": 148
        }
      },
      "source": [
        "def imshow(inp, title=None):\n",
        "    \"\"\"Imshow for Tensor.\"\"\"\n",
        "    inp = inp.numpy().transpose((1, 2, 0))\n",
        "    mean = np.array([0.485, 0.456, 0.406])\n",
        "    std = np.array([0.229, 0.224, 0.225])\n",
        "    inp = std * inp + mean\n",
        "    inp = np.clip(inp, 0, 1)\n",
        "    plt.imshow(inp)\n",
        "    if title is not None:\n",
        "        plt.title(title)\n",
        "    plt.pause(0.001)  # pause a bit so that plots are updated\n",
        "\n",
        "\n",
        "# Get a batch of training data\n",
        "inputs, classes = next(iter(dataloaders['train']))\n",
        "\n",
        "# Make a grid from batch\n",
        "out = torchvision.utils.make_grid(inputs)\n",
        "\n",
        "imshow(out, title=[class_names[x] for x in classes])"
      ],
      "execution_count": 5,
      "outputs": [
        {
          "output_type": "display_data",
          "data": {
            "image/png": "[encoded data removed]",
            "text/plain": [
              "<Figure size 432x288 with 1 Axes>"
            ]
          },
          "metadata": {
            "tags": []
          }
        }
      ]
    },
    {
      "cell_type": "markdown",
      "metadata": {
        "id": "Ny-Pbe5rvxxQ",
        "colab_type": "text"
      },
      "source": [
        "Training the model\n",
        "------------------\n",
        "\n",
        "Now, let's write a general function to train a model. Here, we will\n",
        "illustrate:\n",
        "\n",
        "-  Scheduling the learning rate\n",
        "-  Saving the best model\n",
        "\n",
        "In the following, parameter ``scheduler`` is an LR scheduler object from\n",
        "``torch.optim.lr_scheduler``.\n",
        "\n"
      ]
    },
    {
      "cell_type": "code",
      "metadata": {
        "id": "8AEdrG_UvxxR",
        "colab_type": "code",
        "colab": {}
      },
      "source": [
        "def train_model(model, criterion, optimizer, scheduler, num_epochs=25):\n",
        "    since = time.time()\n",
        "\n",
        "\n",
        "\n",
        "    best_model_wts = copy.deepcopy(model.state_dict())\n",
        "    best_acc = 0.0\n",
        "\n",
        "    for epoch in range(num_epochs):\n",
        "        print('Epoch {}/{}'.format(epoch, num_epochs - 1))\n",
        "        print('-' * 10)\n",
        "\n",
        "        # Each epoch has a training and validation phase\n",
        "        for phase in ['train', 'val']:\n",
        "            if phase == 'train':\n",
        "                scheduler.step()\n",
        "                model.train()  # Set model to training mode\n",
        "            else:\n",
        "                model.eval()   # Set model to evaluate mode\n",
        "\n",
        "            running_loss = 0.0\n",
        "            running_corrects = 0\n",
        "\n",
        "            # Iterate over data.\n",
        "            for inputs, labels in dataloaders[phase]:\n",
        "                inputs = inputs.to(device)\n",
        "                labels = labels.to(device)\n",
        "\n",
        "                # zero the parameter gradients\n",
        "                optimizer.zero_grad()\n",
        "\n",
        "                # forward\n",
        "                # track history if only in train\n",
        "                with torch.set_grad_enabled(phase == 'train'):\n",
        "                    outputs = model(inputs)\n",
        "                    _, preds = torch.max(outputs, 1)\n",
        "                    loss = criterion(outputs, labels)\n",
        "\n",
        "                    # backward + optimize only if in training phase\n",
        "                    if phase == 'train':\n",
        "                        loss.backward()\n",
        "                        optimizer.step()\n",
        "\n",
        "                # statistics\n",
        "                running_loss += loss.item() * inputs.size(0)\n",
        "                running_corrects += torch.sum(preds == labels.data)\n",
        "\n",
        "            epoch_loss = running_loss / dataset_sizes[phase]\n",
        "            epoch_acc = running_corrects.double() / dataset_sizes[phase]\n",
        "\n",
        "            print('{} Loss: {:.4f} Acc: {:.4f}'.format(\n",
        "                phase, epoch_loss, epoch_acc))\n",
        "\n",
        "            # deep copy the model\n",
        "            if phase == 'val' and epoch_acc > best_acc:\n",
        "                best_acc = epoch_acc\n",
        "                best_model_wts = copy.deepcopy(model.state_dict())\n",
        "\n",
        "        print()\n",
        "\n",
        "    time_elapsed = time.time() - since\n",
        "    print('Training complete in {:.0f}m {:.0f}s'.format(\n",
        "        time_elapsed // 60, time_elapsed % 60))\n",
        "    print('Best val Acc: {:4f}'.format(best_acc))\n",
        "\n",
        "    # load best model weights\n",
        "    model.load_state_dict(best_model_wts)\n",
        "    return model"
      ],
      "execution_count": 0,
      "outputs": []
    },
    {
      "cell_type": "markdown",
      "metadata": {
        "id": "wPGEw4RzvxxV",
        "colab_type": "text"
      },
      "source": [
        "Visualizing the model predictions\n",
        "^^^^^^^^^^^^^^^^^^^^^^^^^^^^^^^^^\n",
        "\n",
        "Generic function to display predictions for a few images\n",
        "\n",
        "\n"
      ]
    },
    {
      "cell_type": "code",
      "metadata": {
        "id": "7tWXUY9yvxxX",
        "colab_type": "code",
        "colab": {}
      },
      "source": [
        "def visualize_model(model, num_images=6):\n",
        "    was_training = model.training\n",
        "    model.eval()\n",
        "    images_so_far = 0\n",
        "    fig = plt.figure()\n",
        "\n",
        "    with torch.no_grad():\n",
        "        for i, (inputs, labels) in enumerate(dataloaders['val']):\n",
        "            inputs = inputs.to(device)\n",
        "            labels = labels.to(device)\n",
        "\n",
        "            outputs = model(inputs)\n",
        "            _, preds = torch.max(outputs, 1)\n",
        "\n",
        "            for j in range(inputs.size()[0]):\n",
        "                images_so_far += 1\n",
        "                ax = plt.subplot(num_images//2, 2, images_so_far)\n",
        "                ax.axis('off')\n",
        "                ax.set_title('predicted: {}'.format(class_names[preds[j]]))\n",
        "                imshow(inputs.cpu().data[j])\n",
        "\n",
        "                if images_so_far == num_images:\n",
        "                    model.train(mode=was_training)\n",
        "                    return\n",
        "        model.train(mode=was_training)"
      ],
      "execution_count": 0,
      "outputs": []
    },
    {
      "cell_type": "code",
      "metadata": {
        "id": "bIO2USx76bbk",
        "colab_type": "code",
        "colab": {}
      },
      "source": [
        "!rm -r ~/.cache/torch"
      ],
      "execution_count": 0,
      "outputs": []
    },
    {
      "cell_type": "markdown",
      "metadata": {
        "id": "G3aviAVYvxxa",
        "colab_type": "text"
      },
      "source": [
        "Finetuning the convnet\n",
        "----------------------\n",
        "\n",
        "Load a pretrained model and reset final fully connected layer.\n",
        "\n",
        "\n",
        "\n",
        "\n"
      ]
    },
    {
      "cell_type": "code",
      "metadata": {
        "id": "LgQDxmS2vxxb",
        "colab_type": "code",
        "outputId": "438583d9-5cde-436c-8b49-d12a8907f0c4",
        "colab": {
          "base_uri": "https://localhost:8080/",
          "height": 101
        }
      },
      "source": [
        "model_ft = models.resnet18(pretrained=True)\n",
        "num_ftrs = model_ft.fc.in_features\n",
        "model_ft.fc = nn.Linear(num_ftrs, 2)\n",
        "\n",
        "model_ft = model_ft.to(device)\n",
        "\n",
        "criterion = nn.CrossEntropyLoss()\n",
        "\n",
        "# Observe that all parameters are being optimized\n",
        "optimizer_ft = optim.SGD(model_ft.parameters(), lr=0.001, momentum=0.9)\n",
        "\n",
        "# Decay LR by a factor of 0.1 every 7 epochs\n",
        "exp_lr_scheduler = lr_scheduler.StepLR(optimizer_ft, step_size=7, gamma=0.1)"
      ],
      "execution_count": 8,
      "outputs": [
        {
          "output_type": "stream",
          "text": [
            "Downloading: \"https://download.pytorch.org/models/resnet18-5c106cde.pth\" to /root/.cache/torch/checkpoints/resnet18-5c106cde.pth\n",
            "100%|██████████| 46827520/46827520 [00:01<00:00, 24710579.62it/s]\n"
          ],
          "name": "stderr"
        }
      ]
    },
    {
      "cell_type": "markdown",
      "metadata": {
        "id": "FzQ_XhKWvxxh",
        "colab_type": "text"
      },
      "source": [
        "Train and evaluate\n",
        "^^^^^^^^^^^^^^^^^^\n",
        "\n",
        "It should take around 15-25 min on CPU. On GPU though, it takes less than a\n",
        "minute.\n",
        "\n",
        "\n"
      ]
    },
    {
      "cell_type": "code",
      "metadata": {
        "id": "-QV-D9dNvxxi",
        "colab_type": "code",
        "outputId": "9a474eea-ee46-417c-d62d-4aa0b6d0fdbd",
        "colab": {
          "base_uri": "https://localhost:8080/",
          "height": 1000
        }
      },
      "source": [
        "%time\n",
        "# model_ft = train_model(model_ft, criterion, optimizer_ft, exp_lr_scheduler,\n",
        "#                        num_epochs=1)\n",
        "model_ft = train_model(model_ft, criterion, optimizer_ft, exp_lr_scheduler,\n",
        "                       num_epochs=25)"
      ],
      "execution_count": 11,
      "outputs": [
        {
          "output_type": "stream",
          "text": [
            "CPU times: user 2 µs, sys: 1 µs, total: 3 µs\n",
            "Wall time: 5.25 µs\n",
            "Epoch 0/24\n",
            "----------\n",
            "train Loss: 0.6626 Acc: 0.5946\n",
            "val Loss: 0.8898 Acc: 0.5263\n",
            "\n",
            "Epoch 1/24\n",
            "----------\n",
            "train Loss: 0.6413 Acc: 0.6757\n",
            "val Loss: 0.6874 Acc: 0.5789\n",
            "\n",
            "Epoch 2/24\n",
            "----------\n",
            "train Loss: 0.6197 Acc: 0.5676\n",
            "val Loss: 0.5136 Acc: 0.8421\n",
            "\n",
            "Epoch 3/24\n",
            "----------\n",
            "train Loss: 0.5966 Acc: 0.6486\n",
            "val Loss: 0.4327 Acc: 0.7895\n",
            "\n",
            "Epoch 4/24\n",
            "----------\n",
            "train Loss: 0.8093 Acc: 0.6757\n",
            "val Loss: 0.4528 Acc: 0.7895\n",
            "\n",
            "Epoch 5/24\n",
            "----------\n",
            "train Loss: 0.4421 Acc: 0.8108\n",
            "val Loss: 0.4375 Acc: 0.7368\n",
            "\n",
            "Epoch 6/24\n",
            "----------\n",
            "train Loss: 0.3903 Acc: 0.7838\n",
            "val Loss: 0.3465 Acc: 0.8421\n",
            "\n",
            "Epoch 7/24\n",
            "----------\n",
            "train Loss: 0.5889 Acc: 0.5946\n",
            "val Loss: 0.3230 Acc: 0.9474\n",
            "\n",
            "Epoch 8/24\n",
            "----------\n",
            "train Loss: 0.5630 Acc: 0.7027\n",
            "val Loss: 0.3151 Acc: 0.8947\n",
            "\n",
            "Epoch 9/24\n",
            "----------\n",
            "train Loss: 0.4343 Acc: 0.7838\n",
            "val Loss: 0.3622 Acc: 0.8421\n",
            "\n",
            "Epoch 10/24\n",
            "----------\n",
            "train Loss: 0.2991 Acc: 0.8919\n",
            "val Loss: 0.3591 Acc: 0.8421\n",
            "\n",
            "Epoch 11/24\n",
            "----------\n",
            "train Loss: 0.3980 Acc: 0.7297\n",
            "val Loss: 0.3300 Acc: 0.8947\n",
            "\n",
            "Epoch 12/24\n",
            "----------\n",
            "train Loss: 0.2725 Acc: 0.8919\n",
            "val Loss: 0.2833 Acc: 0.8947\n",
            "\n",
            "Epoch 13/24\n",
            "----------\n",
            "train Loss: 0.2556 Acc: 0.8919\n",
            "val Loss: 0.3829 Acc: 0.8421\n",
            "\n",
            "Epoch 14/24\n",
            "----------\n",
            "train Loss: 0.2661 Acc: 0.8649\n",
            "val Loss: 0.3457 Acc: 0.8421\n",
            "\n",
            "Epoch 15/24\n",
            "----------\n",
            "train Loss: 0.3299 Acc: 0.8649\n",
            "val Loss: 0.2888 Acc: 0.9474\n",
            "\n",
            "Epoch 16/24\n",
            "----------\n",
            "train Loss: 0.3195 Acc: 0.8378\n",
            "val Loss: 0.3378 Acc: 0.8421\n",
            "\n",
            "Epoch 17/24\n",
            "----------\n",
            "train Loss: 0.3816 Acc: 0.8378\n",
            "val Loss: 0.3063 Acc: 0.8947\n",
            "\n",
            "Epoch 18/24\n",
            "----------\n",
            "train Loss: 0.2284 Acc: 0.9189\n",
            "val Loss: 0.3353 Acc: 0.8947\n",
            "\n",
            "Epoch 19/24\n",
            "----------\n",
            "train Loss: 0.3246 Acc: 0.8108\n",
            "val Loss: 0.3089 Acc: 0.8947\n",
            "\n",
            "Epoch 20/24\n",
            "----------\n",
            "train Loss: 0.3232 Acc: 0.8649\n",
            "val Loss: 0.3390 Acc: 0.8947\n",
            "\n",
            "Epoch 21/24\n",
            "----------\n",
            "train Loss: 0.4064 Acc: 0.7297\n",
            "val Loss: 0.3947 Acc: 0.7895\n",
            "\n",
            "Epoch 22/24\n",
            "----------\n",
            "train Loss: 0.3630 Acc: 0.8378\n",
            "val Loss: 0.3573 Acc: 0.8421\n",
            "\n",
            "Epoch 23/24\n",
            "----------\n",
            "train Loss: 0.4063 Acc: 0.8108\n",
            "val Loss: 0.5171 Acc: 0.6316\n",
            "\n",
            "Epoch 24/24\n",
            "----------\n",
            "train Loss: 0.3925 Acc: 0.7568\n",
            "val Loss: 0.3780 Acc: 0.8421\n",
            "\n",
            "Training complete in 0m 22s\n",
            "Best val Acc: 0.947368\n"
          ],
          "name": "stdout"
        }
      ]
    },
    {
      "cell_type": "code",
      "metadata": {
        "id": "o4pjxN1Ovxxl",
        "colab_type": "code",
        "outputId": "a39a6e7c-904b-4fd5-cfed-5e123fc66ee9",
        "colab": {
          "base_uri": "https://localhost:8080/",
          "height": 683
        }
      },
      "source": [
        "visualize_model(model_ft)"
      ],
      "execution_count": 10,
      "outputs": [
        {
          "output_type": "display_data",
          "data": {
            "image/png": "[encoded data removed]",
            "text/plain": [
              "<Figure size 432x288 with 1 Axes>"
            ]
          },
          "metadata": {
            "tags": []
          }
        },
        {
          "output_type": "display_data",
          "data": {
            "image/png": "[encoded data removed]",
            "text/plain": [
              "<Figure size 432x288 with 1 Axes>"
            ]
          },
          "metadata": {
            "tags": []
          }
        },
        {
          "output_type": "display_data",
          "data": {
            "image/png": "[encoded data removed]",
            "text/plain": [
              "<Figure size 432x288 with 1 Axes>"
            ]
          },
          "metadata": {
            "tags": []
          }
        },
        {
          "output_type": "display_data",
          "data": {
            "image/png": "[encoded data removed]",
            "text/plain": [
              "<Figure size 432x288 with 1 Axes>"
            ]
          },
          "metadata": {
            "tags": []
          }
        },
        {
          "output_type": "display_data",
          "data": {
            "image/png": "[encoded data removed]",
            "text/plain": [
              "<Figure size 432x288 with 1 Axes>"
            ]
          },
          "metadata": {
            "tags": []
          }
        },
        {
          "output_type": "display_data",
          "data": {
            "image/png": "[encoded data removed]",
            "text/plain": [
              "<Figure size 432x288 with 1 Axes>"
            ]
          },
          "metadata": {
            "tags": []
          }
        }
      ]
    },
    {
      "cell_type": "markdown",
      "metadata": {
        "id": "0M71lwFbvxxq",
        "colab_type": "text"
      },
      "source": [
        "ConvNet as fixed feature extractor\n",
        "----------------------------------\n",
        "\n",
        "Here, we need to freeze all the network except the final layer. We need\n",
        "to set ``requires_grad == False`` to freeze the parameters so that the\n",
        "gradients are not computed in ``backward()``.\n",
        "\n",
        "You can read more about this in the documentation\n",
        "`here <http://pytorch.org/docs/notes/autograd.html#excluding-subgraphs-from-backward>`__.\n",
        "\n",
        "\n"
      ]
    },
    {
      "cell_type": "code",
      "metadata": {
        "id": "bfMpmuQIvxxr",
        "colab_type": "code",
        "outputId": "60dc6647-03c8-4d25-9f3d-bece51f68fb1",
        "colab": {
          "base_uri": "https://localhost:8080/",
          "height": 51
        }
      },
      "source": [
        "%time\n",
        "model_conv = torchvision.models.resnet18(pretrained=True)\n",
        "for param in model_conv.parameters():\n",
        "    param.requires_grad = False\n",
        "\n",
        "# Parameters of newly constructed modules have requires_grad=True by default\n",
        "num_ftrs = model_conv.fc.in_features\n",
        "model_conv.fc = nn.Linear(num_ftrs, 2)\n",
        "\n",
        "model_conv = model_conv.to(device)\n",
        "\n",
        "criterion = nn.CrossEntropyLoss()\n",
        "\n",
        "# Observe that only parameters of final layer are being optimized as\n",
        "# opoosed to before.\n",
        "optimizer_conv = optim.SGD(model_conv.fc.parameters(), lr=0.001, momentum=0.9)\n",
        "\n",
        "# Decay LR by a factor of 0.1 every 7 epochs\n",
        "exp_lr_scheduler = lr_scheduler.StepLR(optimizer_conv, step_size=7, gamma=0.1)"
      ],
      "execution_count": 12,
      "outputs": [
        {
          "output_type": "stream",
          "text": [
            "CPU times: user 2 µs, sys: 0 ns, total: 2 µs\n",
            "Wall time: 4.29 µs\n"
          ],
          "name": "stdout"
        }
      ]
    },
    {
      "cell_type": "markdown",
      "metadata": {
        "id": "sJcNpA6Svxxv",
        "colab_type": "text"
      },
      "source": [
        "Train and evaluate\n",
        "^^^^^^^^^^^^^^^^^^\n",
        "\n",
        "On CPU this will take about half the time compared to previous scenario.\n",
        "This is expected as gradients don't need to be computed for most of the\n",
        "network. However, forward does need to be computed.\n",
        "\n",
        "\n"
      ]
    },
    {
      "cell_type": "code",
      "metadata": {
        "id": "RHBfvWgmvxxw",
        "colab_type": "code",
        "outputId": "8cd43d94-7d2f-4569-8f9e-d9a92e9d940a",
        "colab": {
          "base_uri": "https://localhost:8080/",
          "height": 1000
        }
      },
      "source": [
        "%time\n",
        "model_conv = train_model(model_conv, criterion, optimizer_conv,\n",
        "                         exp_lr_scheduler, num_epochs=25)"
      ],
      "execution_count": 13,
      "outputs": [
        {
          "output_type": "stream",
          "text": [
            "CPU times: user 1e+03 ns, sys: 1 µs, total: 2 µs\n",
            "Wall time: 5.48 µs\n",
            "Epoch 0/24\n",
            "----------\n",
            "train Loss: 0.7805 Acc: 0.3784\n",
            "val Loss: 0.6630 Acc: 0.6842\n",
            "\n",
            "Epoch 1/24\n",
            "----------\n",
            "train Loss: 0.7260 Acc: 0.6216\n",
            "val Loss: 0.7374 Acc: 0.4737\n",
            "\n",
            "Epoch 2/24\n",
            "----------\n",
            "train Loss: 0.6739 Acc: 0.5676\n",
            "val Loss: 0.6844 Acc: 0.5263\n",
            "\n",
            "Epoch 3/24\n",
            "----------\n",
            "train Loss: 0.8732 Acc: 0.5676\n",
            "val Loss: 0.6613 Acc: 0.5789\n",
            "\n",
            "Epoch 4/24\n",
            "----------\n",
            "train Loss: 0.6800 Acc: 0.6486\n",
            "val Loss: 0.8548 Acc: 0.4737\n",
            "\n",
            "Epoch 5/24\n",
            "----------\n",
            "train Loss: 0.7724 Acc: 0.5946\n",
            "val Loss: 0.7492 Acc: 0.5263\n",
            "\n",
            "Epoch 6/24\n",
            "----------\n",
            "train Loss: 0.5732 Acc: 0.6216\n",
            "val Loss: 0.6573 Acc: 0.5789\n",
            "\n",
            "Epoch 7/24\n",
            "----------\n",
            "train Loss: 0.5632 Acc: 0.6486\n",
            "val Loss: 0.4476 Acc: 0.7895\n",
            "\n",
            "Epoch 8/24\n",
            "----------\n",
            "train Loss: 0.5184 Acc: 0.7297\n",
            "val Loss: 0.5131 Acc: 0.7368\n",
            "\n",
            "Epoch 9/24\n",
            "----------\n",
            "train Loss: 0.5500 Acc: 0.7297\n",
            "val Loss: 0.4947 Acc: 0.7368\n",
            "\n",
            "Epoch 10/24\n",
            "----------\n",
            "train Loss: 0.4963 Acc: 0.7838\n",
            "val Loss: 0.4940 Acc: 0.7368\n",
            "\n",
            "Epoch 11/24\n",
            "----------\n",
            "train Loss: 0.5032 Acc: 0.7838\n",
            "val Loss: 0.5411 Acc: 0.7368\n",
            "\n",
            "Epoch 12/24\n",
            "----------\n",
            "train Loss: 0.5621 Acc: 0.7297\n",
            "val Loss: 0.5492 Acc: 0.7368\n",
            "\n",
            "Epoch 13/24\n",
            "----------\n",
            "train Loss: 0.5765 Acc: 0.6486\n",
            "val Loss: 0.6043 Acc: 0.6842\n",
            "\n",
            "Epoch 14/24\n",
            "----------\n",
            "train Loss: 0.5214 Acc: 0.7297\n",
            "val Loss: 0.6112 Acc: 0.5789\n",
            "\n",
            "Epoch 15/24\n",
            "----------\n",
            "train Loss: 0.4460 Acc: 0.7568\n",
            "val Loss: 0.6138 Acc: 0.5789\n",
            "\n",
            "Epoch 16/24\n",
            "----------\n",
            "train Loss: 0.4352 Acc: 0.7838\n",
            "val Loss: 0.5141 Acc: 0.7368\n",
            "\n",
            "Epoch 17/24\n",
            "----------\n",
            "train Loss: 0.6350 Acc: 0.5946\n",
            "val Loss: 0.5861 Acc: 0.6316\n",
            "\n",
            "Epoch 18/24\n",
            "----------\n",
            "train Loss: 0.4725 Acc: 0.7297\n",
            "val Loss: 0.5333 Acc: 0.6842\n",
            "\n",
            "Epoch 19/24\n",
            "----------\n",
            "train Loss: 0.5403 Acc: 0.7297\n",
            "val Loss: 0.5169 Acc: 0.7368\n",
            "\n",
            "Epoch 20/24\n",
            "----------\n",
            "train Loss: 0.5087 Acc: 0.7838\n",
            "val Loss: 0.4978 Acc: 0.7368\n",
            "\n",
            "Epoch 21/24\n",
            "----------\n",
            "train Loss: 0.5333 Acc: 0.8378\n",
            "val Loss: 0.4867 Acc: 0.7368\n",
            "\n",
            "Epoch 22/24\n",
            "----------\n",
            "train Loss: 0.5812 Acc: 0.7568\n",
            "val Loss: 0.5566 Acc: 0.6316\n",
            "\n",
            "Epoch 23/24\n",
            "----------\n",
            "train Loss: 0.4777 Acc: 0.7568\n",
            "val Loss: 0.5762 Acc: 0.6316\n",
            "\n",
            "Epoch 24/24\n",
            "----------\n",
            "train Loss: 0.4742 Acc: 0.7297\n",
            "val Loss: 0.5375 Acc: 0.6842\n",
            "\n",
            "Training complete in 0m 20s\n",
            "Best val Acc: 0.789474\n"
          ],
          "name": "stdout"
        }
      ]
    },
    {
      "cell_type": "code",
      "metadata": {
        "id": "eWXx96sdvxx1",
        "colab_type": "code",
        "outputId": "69f1431a-3392-4cbf-b3d3-8a73c1385a51",
        "colab": {
          "base_uri": "https://localhost:8080/",
          "height": 683
        }
      },
      "source": [
        "visualize_model(model_conv)\n",
        "\n",
        "plt.ioff()\n",
        "plt.show()"
      ],
      "execution_count": 14,
      "outputs": [
        {
          "output_type": "display_data",
          "data": {
            "image/png": "[encoded data removed]",
            "text/plain": [
              "<Figure size 432x288 with 1 Axes>"
            ]
          },
          "metadata": {
            "tags": []
          }
        },
        {
          "output_type": "display_data",
          "data": {
            "image/png": "[encoded data removed]",
            "text/plain": [
              "<Figure size 432x288 with 1 Axes>"
            ]
          },
          "metadata": {
            "tags": []
          }
        },
        {
          "output_type": "display_data",
          "data": {
            "image/png": "[encoded data removed]",
            "text/plain": [
              "<Figure size 432x288 with 1 Axes>"
            ]
          },
          "metadata": {
            "tags": []
          }
        },
        {
          "output_type": "display_data",
          "data": {
            "image/png": "[encoded data removed]",
            "text/plain": [
              "<Figure size 432x288 with 1 Axes>"
            ]
          },
          "metadata": {
            "tags": []
          }
        },
        {
          "output_type": "display_data",
          "data": {
            "image/png": "[encoded data removed]",
            "text/plain": [
              "<Figure size 432x288 with 1 Axes>"
            ]
          },
          "metadata": {
            "tags": []
          }
        },
        {
          "output_type": "display_data",
          "data": {
            "image/png": "[encoded data removed]",
            "text/plain": [
              "<Figure size 432x288 with 1 Axes>"
            ]
          },
          "metadata": {
            "tags": []
          }
        }
      ]
    },
    {
      "cell_type": "code",
      "metadata": {
        "id": "Qqw8zW_n6KpP",
        "colab_type": "code",
        "outputId": "329b723c-1c92-42ca-cfb2-8c493581fd46",
        "colab": {
          "base_uri": "https://localhost:8080/",
          "height": 100
        }
      },
      "source": [
        "# !mkdir predict_data\n",
        "# !curl https://pestworldforkids.org/media/6286/Pavement-ant.jpg -o predict_data/ants.jpg\n",
        "\n",
        "# !ls predict_data\n",
        "\n",
        "!curl http://i.gzn.jp/img/2015/08/23/why-bee-die-after-sting/00-top_m.jpg -o predict_data/bee2.jpg"
      ],
      "execution_count": 0,
      "outputs": [
        {
          "output_type": "stream",
          "text": [
            "  % Total    % Received % Xferd  Average Speed   Time    Time     Time  Current\n",
            "                                 Dload  Upload   Total   Spent    Left  Speed\n",
            "100 19291  100 19291    0     0  19664      0 --:--:-- --:--:-- --:--:-- 19644\n"
          ],
          "name": "stdout"
        }
      ]
    },
    {
      "cell_type": "code",
      "metadata": {
        "id": "l5vPvh8Y5rJ9",
        "colab_type": "code",
        "outputId": "5d98a5b9-16be-4891-ba9b-8491fd21721f",
        "colab": {
          "base_uri": "https://localhost:8080/",
          "height": 68
        }
      },
      "source": [
        "%time\n",
        "from PIL import Image\n",
        "\n",
        "data_transform = transforms.Compose([\n",
        "        transforms.Resize(256),\n",
        "        transforms.CenterCrop(224),\n",
        "        transforms.ToTensor(),\n",
        "        transforms.Normalize([0.485, 0.456, 0.406], [0.229, 0.224, 0.225])])\n",
        "\n",
        "image = Image.open('predict_data/bee2.jpg')\n",
        "image = data_transform(image).unsqueeze(0).cuda()\n",
        "\n",
        "out = model_conv(image)\n",
        "# Find the predicted class\n",
        "print(\"Predicted class is: {}\".format(class_names[out.argmax()]))"
      ],
      "execution_count": 0,
      "outputs": [
        {
          "output_type": "stream",
          "text": [
            "CPU times: user 2 µs, sys: 0 ns, total: 2 µs\n",
            "Wall time: 5.25 µs\n",
            "Predicted class is: bees\n"
          ],
          "name": "stdout"
        }
      ]
    }
  ]
}