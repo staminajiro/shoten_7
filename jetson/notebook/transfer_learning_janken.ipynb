{
  "nbformat": 4,
  "nbformat_minor": 0,
  "metadata": {
    "kernelspec": {
      "name": "python3",
      "display_name": "Python 3"
    },
    "language_info": {
      "codemirror_mode": {
        "name": "ipython",
        "version": 3
      },
      "file_extension": ".py",
      "mimetype": "text/x-python",
      "name": "python",
      "nbconvert_exporter": "python",
      "pygments_lexer": "ipython3",
      "version": "3.6.6"
    },
    "colab": {
      "name": "transfer_learning_janken.ipynb",
      "version": "0.3.2",
      "provenance": [],
      "collapsed_sections": []
    },
    "accelerator": "GPU"
  },
  "cells": [
    {
      "cell_type": "markdown",
      "metadata": {
        "id": "-oWZgrnvvxw2",
        "colab_type": "text"
      },
      "source": [
        "\n",
        "Transfer Learning Tutorial\n",
        "==========================\n",
        "**Author**: `Sasank Chilamkurthy <https://chsasank.github.io>`_\n",
        "\n",
        "In this tutorial, you will learn how to train your network using\n",
        "transfer learning. You can read more about the transfer learning at `cs231n\n",
        "notes <http://cs231n.github.io/transfer-learning/>`__\n",
        "\n",
        "Quoting these notes,\n",
        "\n",
        "    In practice, very few people train an entire Convolutional Network\n",
        "    from scratch (with random initialization), because it is relatively\n",
        "    rare to have a dataset of sufficient size. Instead, it is common to\n",
        "    pretrain a ConvNet on a very large dataset (e.g. ImageNet, which\n",
        "    contains 1.2 million images with 1000 categories), and then use the\n",
        "    ConvNet either as an initialization or a fixed feature extractor for\n",
        "    the task of interest.\n",
        "\n",
        "These two major transfer learning scenarios look as follows:\n",
        "\n",
        "-  **Finetuning the convnet**: Instead of random initializaion, we\n",
        "   initialize the network with a pretrained network, like the one that is\n",
        "   trained on imagenet 1000 dataset. Rest of the training looks as\n",
        "   usual.\n",
        "-  **ConvNet as fixed feature extractor**: Here, we will freeze the weights\n",
        "   for all of the network except that of the final fully connected\n",
        "   layer. This last fully connected layer is replaced with a new one\n",
        "   with random weights and only this layer is trained.\n",
        "\n",
        "\n"
      ]
    },
    {
      "cell_type": "code",
      "metadata": {
        "id": "KXrZbOfQvxw6",
        "colab_type": "code",
        "colab": {}
      },
      "source": [
        "%matplotlib inline\n",
        "\n",
        "# License: BSD\n",
        "# Author: Sasank Chilamkurthy\n",
        "\n",
        "from __future__ import print_function, division\n",
        "\n",
        "import torch\n",
        "import torch.nn as nn\n",
        "import torch.optim as optim\n",
        "from torch.optim import lr_scheduler\n",
        "import numpy as np\n",
        "import torchvision\n",
        "from torchvision import datasets, models, transforms\n",
        "import matplotlib.pyplot as plt\n",
        "import time\n",
        "import os\n",
        "import copy\n",
        "\n",
        "plt.ion()   # interactive mode"
      ],
      "execution_count": 0,
      "outputs": []
    },
    {
      "cell_type": "code",
      "metadata": {
        "id": "3V5cgR2ux4gf",
        "colab_type": "code",
        "outputId": "0de1cb92-e701-4d3d-a604-cf50e5baf581",
        "colab": {
          "base_uri": "https://localhost:8080/",
          "height": 323
        }
      },
      "source": [
        "print(torch.cuda.is_available())\n",
        "print(torch.cuda.current_device())\n",
        "!nvidia-smi"
      ],
      "execution_count": 39,
      "outputs": [
        {
          "output_type": "stream",
          "text": [
            "True\n",
            "0\n",
            "Sat Sep  7 13:28:48 2019       \n",
            "+-----------------------------------------------------------------------------+\n",
            "| NVIDIA-SMI 430.40       Driver Version: 418.67       CUDA Version: 10.1     |\n",
            "|-------------------------------+----------------------+----------------------+\n",
            "| GPU  Name        Persistence-M| Bus-Id        Disp.A | Volatile Uncorr. ECC |\n",
            "| Fan  Temp  Perf  Pwr:Usage/Cap|         Memory-Usage | GPU-Util  Compute M. |\n",
            "|===============================+======================+======================|\n",
            "|   0  Tesla K80           Off  | 00000000:00:04.0 Off |                    0 |\n",
            "| N/A   55C    P0    59W / 149W |    673MiB / 11441MiB |      0%      Default |\n",
            "+-------------------------------+----------------------+----------------------+\n",
            "                                                                               \n",
            "+-----------------------------------------------------------------------------+\n",
            "| Processes:                                                       GPU Memory |\n",
            "|  GPU       PID   Type   Process name                             Usage      |\n",
            "|=============================================================================|\n",
            "+-----------------------------------------------------------------------------+\n"
          ],
          "name": "stdout"
        }
      ]
    },
    {
      "cell_type": "markdown",
      "metadata": {
        "id": "wdPwJ5novxxB",
        "colab_type": "text"
      },
      "source": [
        "Load Data\n",
        "---------\n",
        "\n",
        "We will use torchvision and torch.utils.data packages for loading the\n",
        "data.\n",
        "\n",
        "The problem we're going to solve today is to train a model to classify\n",
        "**ants** and **bees**. We have about 120 training images each for ants and bees.\n",
        "There are 75 validation images for each class. Usually, this is a very\n",
        "small dataset to generalize upon, if trained from scratch. Since we\n",
        "are using transfer learning, we should be able to generalize reasonably\n",
        "well.\n",
        "\n",
        "This dataset is a very small subset of imagenet.\n",
        "\n",
        ".. Note ::\n",
        "   Download the data from\n",
        "   `here <https://download.pytorch.org/tutorial/hymenoptera_data.zip>`_\n",
        "   and extract it to the current directory.\n",
        "\n"
      ]
    },
    {
      "cell_type": "code",
      "metadata": {
        "id": "CN02TVHf0j5_",
        "colab_type": "code",
        "outputId": "696ed83b-6093-4ddc-d4a4-601e43864653",
        "colab": {
          "base_uri": "https://localhost:8080/",
          "height": 129
        }
      },
      "source": [
        "from google.colab import drive\n",
        "drive.mount('/content/drive', force_remount=True)\n"
      ],
      "execution_count": 0,
      "outputs": [
        {
          "output_type": "stream",
          "text": [
            "Go to this URL in a browser: https://accounts.google.com/o/oauth2/auth?client_id=947318989803-6bn6qk8qdgf4n4g3pfee6491hc0brc4i.apps.googleusercontent.com&redirect_uri=urn%3Aietf%3Awg%3Aoauth%3A2.0%3Aoob&scope=email%20https%3A%2F%2Fwww.googleapis.com%2Fauth%2Fdocs.test%20https%3A%2F%2Fwww.googleapis.com%2Fauth%2Fdrive%20https%3A%2F%2Fwww.googleapis.com%2Fauth%2Fdrive.photos.readonly%20https%3A%2F%2Fwww.googleapis.com%2Fauth%2Fpeopleapi.readonly&response_type=code\n",
            "\n",
            "Enter your authorization code:\n",
            "··········\n",
            "Mounted at /content/drive\n"
          ],
          "name": "stdout"
        }
      ]
    },
    {
      "cell_type": "code",
      "metadata": {
        "id": "lMYtXUnIwBBV",
        "colab_type": "code",
        "outputId": "a1df3edc-398a-4be6-f0e3-2f4dd640c2e3",
        "colab": {
          "base_uri": "https://localhost:8080/",
          "height": 1000
        }
      },
      "source": [
        "\n",
        "!unzip \"drive/My Drive/Colab Notebooks/torch/dest.zip\"\n",
        "data_dir ='dest'\n",
        "\n",
        "# !curl https://download.pytorch.org/tutorial/hymenoptera_data.zip --output hymenoptera_data.zip\n",
        "# !unzip hymenoptera_data.zip\n",
        "# data_dir = \"hymenoptera_data\"\n"
      ],
      "execution_count": 0,
      "outputs": [
        {
          "output_type": "stream",
          "text": [
            "Archive:  drive/My Drive/Colab Notebooks/torch/dest77.zip\n",
            "   creating: dest7/\n",
            "   creating: dest7/train/\n",
            "   creating: dest7/train/goo/\n",
            "  inflating: dest7/train/goo/goo_20190907_203547.jpg  \n",
            "  inflating: dest7/train/goo/goo_20190907_203553.jpg  \n",
            "  inflating: dest7/train/goo/goo_20190907_203552.jpg  \n",
            "  inflating: dest7/train/goo/goo_20190907_203546.jpg  \n",
            "  inflating: dest7/train/goo/goo_20190907_203550.jpg  \n",
            "  inflating: dest7/train/goo/goo_20190907_203545.jpg  \n",
            "  inflating: dest7/train/goo/goo_20190907_203551.jpg  \n",
            "  inflating: dest7/train/goo/goo_20190907_203555.jpg  \n",
            "  inflating: dest7/train/goo/goo_20190907_203554.jpg  \n",
            "  inflating: dest7/train/goo/goo_20190907_203556.jpg  \n",
            "  inflating: dest7/train/goo/goo_20190907_203557.jpg  \n",
            "  inflating: dest7/train/goo/goo_20190907_203524.jpg  \n",
            "  inflating: dest7/train/goo/goo_20190907_203525.jpg  \n",
            "  inflating: dest7/train/goo/goo_20190907_203522.jpg  \n",
            "  inflating: dest7/train/goo/goo_20190907_203521.jpg  \n",
            "  inflating: dest7/train/goo/goo_20190907_203520.jpg  \n",
            "  inflating: dest7/train/goo/goo_20190907_203604.jpg  \n",
            "  inflating: dest7/train/goo/goo_20190907_203605.jpg  \n",
            "  inflating: dest7/train/goo/goo_20190907_203559.jpg  \n",
            "  inflating: dest7/train/goo/goo_20190907_203558.jpg  \n",
            "  inflating: dest7/train/goo/goo_20190907_203549.jpg  \n",
            "  inflating: dest7/train/goo/goo_20190907_203603.jpg  \n",
            "  inflating: dest7/train/goo/goo_20190907_203600.jpg  \n",
            "   creating: dest7/train/choki/\n",
            "  inflating: dest7/train/choki/choki_20190907_203732.jpg  \n",
            "  inflating: dest7/train/choki/choki_20190907_203733.jpg  \n",
            "  inflating: dest7/train/choki/choki_20190907_203647.jpg  \n",
            "  inflating: dest7/train/choki/choki_20190907_203731.jpg  \n",
            "  inflating: dest7/train/choki/choki_20190907_203730.jpg  \n",
            "  inflating: dest7/train/choki/choki_20190907_203650.jpg  \n",
            "  inflating: dest7/train/choki/choki_20190907_203709.jpg  \n",
            "  inflating: dest7/train/choki/choki_20190907_203657.jpg  \n",
            "  inflating: dest7/train/choki/choki_20190907_203713.jpg  \n",
            "  inflating: dest7/train/choki/choki_20190907_203707.jpg  \n",
            "  inflating: dest7/train/choki/choki_20190907_203706.jpg  \n",
            "  inflating: dest7/train/choki/choki_20190907_203712.jpg  \n",
            "  inflating: dest7/train/choki/choki_20190907_203658.jpg  \n",
            "  inflating: dest7/train/choki/choki_20190907_203704.jpg  \n",
            "  inflating: dest7/train/choki/choki_20190907_203710.jpg  \n",
            "  inflating: dest7/train/choki/choki_20190907_203711.jpg  \n",
            "  inflating: dest7/train/choki/choki_20190907_203705.jpg  \n",
            "  inflating: dest7/train/choki/choki_20190907_203659.jpg  \n",
            "  inflating: dest7/train/choki/choki_20190907_203649.jpg  \n",
            "  inflating: dest7/train/choki/choki_20190907_203729.jpg  \n",
            "  inflating: dest7/train/choki/choki_20190907_203701.jpg  \n",
            "  inflating: dest7/train/choki/choki_20190907_203714.jpg  \n",
            "  inflating: dest7/train/choki/choki_20190907_203648.jpg  \n",
            "  inflating: dest7/train/choki/choki_20190907_203716.jpg  \n",
            "  inflating: dest7/train/choki/choki_20190907_203702.jpg  \n",
            "  inflating: dest7/train/choki/choki_20190907_203703.jpg  \n",
            "  inflating: dest7/train/choki/choki_20190907_203717.jpg  \n",
            "   creating: dest7/train/paa/\n",
            "  inflating: dest7/train/paa/paa_20190907_203848.jpg  \n",
            "  inflating: dest7/train/paa/paa_20190907_203849.jpg  \n",
            "  inflating: dest7/train/paa/paa_20190907_203828.jpg  \n",
            "  inflating: dest7/train/paa/paa_20190907_203829.jpg  \n",
            "  inflating: dest7/train/paa/paa_20190907_203817.jpg  \n",
            "  inflating: dest7/train/paa/paa_20190907_203816.jpg  \n",
            "  inflating: dest7/train/paa/paa_20190907_203839.jpg  \n",
            "  inflating: dest7/train/paa/paa_20190907_203838.jpg  \n",
            "  inflating: dest7/train/paa/paa_20190907_203835.jpg  \n",
            "  inflating: dest7/train/paa/paa_20190907_203834.jpg  \n",
            "  inflating: dest7/train/paa/paa_20190907_203822.jpg  \n",
            "  inflating: dest7/train/paa/paa_20190907_203836.jpg  \n",
            "  inflating: dest7/train/paa/paa_20190907_203837.jpg  \n",
            "  inflating: dest7/train/paa/paa_20190907_203823.jpg  \n",
            "  inflating: dest7/train/paa/paa_20190907_203827.jpg  \n",
            "  inflating: dest7/train/paa/paa_20190907_203833.jpg  \n",
            "  inflating: dest7/train/paa/paa_20190907_203832.jpg  \n",
            "  inflating: dest7/train/paa/paa_20190907_203826.jpg  \n",
            "  inflating: dest7/train/paa/paa_20190907_203818.jpg  \n",
            "  inflating: dest7/train/paa/paa_20190907_203830.jpg  \n",
            "  inflating: dest7/train/paa/paa_20190907_203825.jpg  \n",
            "  inflating: dest7/train/paa/paa_20190907_203831.jpg  \n",
            "  inflating: dest7/train/paa/paa_20190907_203842.jpg  \n",
            "  inflating: dest7/train/paa/paa_20190907_203841.jpg  \n",
            "  inflating: dest7/train/paa/paa_20190907_203855.jpg  \n",
            "  inflating: dest7/train/paa/paa_20190907_203854.jpg  \n",
            "  inflating: dest7/train/paa/paa_20190907_203840.jpg  \n",
            "  inflating: dest7/train/paa/paa_20190907_203850.jpg  \n",
            "  inflating: dest7/train/paa/paa_20190907_203851.jpg  \n",
            "  inflating: dest7/train/paa/paa_20190907_203853.jpg  \n",
            "   creating: dest7/val/\n",
            "   creating: dest7/val/goo/\n",
            "  inflating: dest7/val/goo/goo_20190907_203436.jpg  \n",
            "  inflating: dest7/val/goo/goo_20190907_203437.jpg  \n",
            "  inflating: dest7/val/goo/goo_20190907_203450.jpg  \n",
            "  inflating: dest7/val/goo/goo_20190907_203444.jpg  \n",
            "  inflating: dest7/val/goo/goo_20190907_203518.jpg  \n",
            "  inflating: dest7/val/goo/goo_20190907_203519.jpg  \n",
            "  inflating: dest7/val/goo/goo_20190907_203452.jpg  \n",
            "  inflating: dest7/val/goo/goo_20190907_203456.jpg  \n",
            "  inflating: dest7/val/goo/goo_20190907_203455.jpg  \n",
            "  inflating: dest7/val/goo/goo_20190907_203441.jpg  \n",
            "  inflating: dest7/val/goo/goo_20190907_203509.jpg  \n",
            "  inflating: dest7/val/goo/goo_20190907_203508.jpg  \n",
            "  inflating: dest7/val/goo/goo_20190907_203440.jpg  \n",
            "  inflating: dest7/val/goo/goo_20190907_203459.jpg  \n",
            "  inflating: dest7/val/goo/goo_20190907_203511.jpg  \n",
            "  inflating: dest7/val/goo/goo_20190907_203510.jpg  \n",
            "  inflating: dest7/val/goo/goo_20190907_203504.jpg  \n",
            "  inflating: dest7/val/goo/goo_20190907_203458.jpg  \n",
            "  inflating: dest7/val/goo/goo_20190907_203512.jpg  \n",
            "  inflating: dest7/val/goo/goo_20190907_203506.jpg  \n",
            "  inflating: dest7/val/goo/goo_20190907_203507.jpg  \n",
            "  inflating: dest7/val/goo/goo_20190907_203513.jpg  \n",
            "  inflating: dest7/val/goo/goo_20190907_203517.jpg  \n",
            "  inflating: dest7/val/goo/goo_20190907_203503.jpg  \n",
            "  inflating: dest7/val/goo/goo_20190907_203502.jpg  \n",
            "  inflating: dest7/val/goo/goo_20190907_203516.jpg  \n",
            "  inflating: dest7/val/goo/goo_20190907_203448.jpg  \n",
            "  inflating: dest7/val/goo/goo_20190907_203500.jpg  \n",
            "  inflating: dest7/val/goo/goo_20190907_203514.jpg  \n",
            "  inflating: dest7/val/goo/goo_20190907_203515.jpg  \n",
            "  inflating: dest7/val/goo/goo_20190907_203501.jpg  \n",
            "  inflating: dest7/val/goo/goo_20190907_203438.jpg  \n",
            "   creating: dest7/val/choki/\n",
            "  inflating: dest7/val/choki/choki_20190907_203625.jpg  \n",
            "  inflating: dest7/val/choki/choki_20190907_203631.jpg  \n",
            "  inflating: dest7/val/choki/choki_20190907_203619.jpg  \n",
            "  inflating: dest7/val/choki/choki_20190907_203630.jpg  \n",
            "  inflating: dest7/val/choki/choki_20190907_203624.jpg  \n",
            "  inflating: dest7/val/choki/choki_20190907_203632.jpg  \n",
            "  inflating: dest7/val/choki/choki_20190907_203626.jpg  \n",
            "  inflating: dest7/val/choki/choki_20190907_203627.jpg  \n",
            "  inflating: dest7/val/choki/choki_20190907_203633.jpg  \n",
            "  inflating: dest7/val/choki/choki_20190907_203637.jpg  \n",
            "  inflating: dest7/val/choki/choki_20190907_203623.jpg  \n",
            "  inflating: dest7/val/choki/choki_20190907_203622.jpg  \n",
            "  inflating: dest7/val/choki/choki_20190907_203636.jpg  \n",
            "  inflating: dest7/val/choki/choki_20190907_203620.jpg  \n",
            "  inflating: dest7/val/choki/choki_20190907_203634.jpg  \n",
            "  inflating: dest7/val/choki/choki_20190907_203621.jpg  \n",
            "  inflating: dest7/val/choki/choki_20190907_203644.jpg  \n",
            "  inflating: dest7/val/choki/choki_20190907_203640.jpg  \n",
            "  inflating: dest7/val/choki/choki_20190907_203641.jpg  \n",
            "  inflating: dest7/val/choki/choki_20190907_203642.jpg  \n",
            "  inflating: dest7/val/choki/choki_20190907_203639.jpg  \n",
            "  inflating: dest7/val/choki/choki_20190907_203629.jpg  \n",
            "  inflating: dest7/val/choki/choki_20190907_203628.jpg  \n",
            "   creating: dest7/val/paa/\n",
            "  inflating: dest7/val/paa/paa_20190907_203753.jpg  \n",
            "  inflating: dest7/val/paa/paa_20190907_203814.jpg  \n",
            "  inflating: dest7/val/paa/paa_20190907_203800.jpg  \n",
            "  inflating: dest7/val/paa/paa_20190907_203801.jpg  \n",
            "  inflating: dest7/val/paa/paa_20190907_203815.jpg  \n",
            "  inflating: dest7/val/paa/paa_20190907_203752.jpg  \n",
            "  inflating: dest7/val/paa/paa_20190907_203750.jpg  \n",
            "  inflating: dest7/val/paa/paa_20190907_203802.jpg  \n",
            "  inflating: dest7/val/paa/paa_20190907_203751.jpg  \n",
            "  inflating: dest7/val/paa/paa_20190907_203755.jpg  \n",
            "  inflating: dest7/val/paa/paa_20190907_203806.jpg  \n",
            "  inflating: dest7/val/paa/paa_20190907_203812.jpg  \n",
            "  inflating: dest7/val/paa/paa_20190907_203813.jpg  \n",
            "  inflating: dest7/val/paa/paa_20190907_203754.jpg  \n",
            "  inflating: dest7/val/paa/paa_20190907_203756.jpg  \n",
            "  inflating: dest7/val/paa/paa_20190907_203811.jpg  \n",
            "  inflating: dest7/val/paa/paa_20190907_203805.jpg  \n",
            "  inflating: dest7/val/paa/paa_20190907_203804.jpg  \n",
            "  inflating: dest7/val/paa/paa_20190907_203757.jpg  \n",
            "  inflating: dest7/val/paa/paa_20190907_203809.jpg  \n",
            "  inflating: dest7/val/paa/paa_20190907_203808.jpg  \n",
            "  inflating: dest7/val/paa/paa_20190907_203759.jpg  \n",
            "  inflating: dest7/val/paa/paa_20190907_203758.jpg  \n",
            "  inflating: dest7/val/paa/paa_20190907_203749.jpg  \n",
            "dest7  drive  hymenoptera_data\thymenoptera_data.zip  sample_data  tmp\n"
          ],
          "name": "stdout"
        }
      ]
    },
    {
      "cell_type": "code",
      "metadata": {
        "id": "IfVg72w3vxxE",
        "colab_type": "code",
        "outputId": "227cba76-ddff-4780-fc69-c8d2154bf1cd",
        "colab": {
          "base_uri": "https://localhost:8080/",
          "height": 68
        }
      },
      "source": [
        "\n",
        "# Data augmentation and normalization for training\n",
        "# Just normalization for validation\n",
        "data_transforms = {\n",
        "    'train': transforms.Compose([\n",
        "        transforms.RandomResizedCrop(224),\n",
        "        transforms.RandomHorizontalFlip(),\n",
        "        transforms.ToTensor(),\n",
        "        transforms.Normalize([0.485, 0.456, 0.406], [0.229, 0.224, 0.225])\n",
        "    ]),\n",
        "    'val': transforms.Compose([\n",
        "        transforms.Resize(256),\n",
        "        transforms.CenterCrop(224),\n",
        "        transforms.ToTensor(),\n",
        "        transforms.Normalize([0.485, 0.456, 0.406], [0.229, 0.224, 0.225])\n",
        "    ]),\n",
        "}\n",
        "\n",
        "image_datasets = {x: datasets.ImageFolder(os.path.join(data_dir, x),\n",
        "                                          data_transforms[x])\n",
        "                  for x in ['train', 'val']}\n",
        "dataloaders = {x: torch.utils.data.DataLoader(image_datasets[x], batch_size=4,\n",
        "                                             shuffle=True, num_workers=4)\n",
        "              for x in ['train', 'val']}\n",
        "dataset_sizes = {x: len(image_datasets[x]) for x in ['train', 'val']}\n",
        "class_names = image_datasets['train'].classes\n",
        "\n",
        "device = torch.device(\"cuda:0\" if torch.cuda.is_available() else \"cpu\")\n",
        "class_names, device, dataset_sizes"
      ],
      "execution_count": 0,
      "outputs": [
        {
          "output_type": "execute_result",
          "data": {
            "text/plain": [
              "(['choki', 'goo', 'paa'],\n",
              " device(type='cuda', index=0),\n",
              " {'train': 80, 'val': 80})"
            ]
          },
          "metadata": {
            "tags": []
          },
          "execution_count": 21
        }
      ]
    },
    {
      "cell_type": "code",
      "metadata": {
        "id": "m1wAd3Aa7X6V",
        "colab_type": "code",
        "outputId": "193a6d9a-1a78-437d-fc43-e5ca624e9865",
        "colab": {
          "base_uri": "https://localhost:8080/",
          "height": 697
        }
      },
      "source": [
        "hoge = list(dataloaders['train'])\n",
        "for x in hoge:\n",
        "  print(x[0].shape)\n",
        "\n",
        "hoge = list(dataloaders['val'])\n",
        "for x in hoge:\n",
        "  print(x[0].shape)\n",
        "  \n"
      ],
      "execution_count": 0,
      "outputs": [
        {
          "output_type": "stream",
          "text": [
            "torch.Size([4, 3, 224, 224])\n",
            "torch.Size([4, 3, 224, 224])\n",
            "torch.Size([4, 3, 224, 224])\n",
            "torch.Size([4, 3, 224, 224])\n",
            "torch.Size([4, 3, 224, 224])\n",
            "torch.Size([4, 3, 224, 224])\n",
            "torch.Size([4, 3, 224, 224])\n",
            "torch.Size([4, 3, 224, 224])\n",
            "torch.Size([4, 3, 224, 224])\n",
            "torch.Size([4, 3, 224, 224])\n",
            "torch.Size([4, 3, 224, 224])\n",
            "torch.Size([4, 3, 224, 224])\n",
            "torch.Size([4, 3, 224, 224])\n",
            "torch.Size([4, 3, 224, 224])\n",
            "torch.Size([4, 3, 224, 224])\n",
            "torch.Size([4, 3, 224, 224])\n",
            "torch.Size([4, 3, 224, 224])\n",
            "torch.Size([4, 3, 224, 224])\n",
            "torch.Size([4, 3, 224, 224])\n",
            "torch.Size([4, 3, 224, 224])\n",
            "torch.Size([4, 3, 224, 224])\n",
            "torch.Size([4, 3, 224, 224])\n",
            "torch.Size([4, 3, 224, 224])\n",
            "torch.Size([4, 3, 224, 224])\n",
            "torch.Size([4, 3, 224, 224])\n",
            "torch.Size([4, 3, 224, 224])\n",
            "torch.Size([4, 3, 224, 224])\n",
            "torch.Size([4, 3, 224, 224])\n",
            "torch.Size([4, 3, 224, 224])\n",
            "torch.Size([4, 3, 224, 224])\n",
            "torch.Size([4, 3, 224, 224])\n",
            "torch.Size([4, 3, 224, 224])\n",
            "torch.Size([4, 3, 224, 224])\n",
            "torch.Size([4, 3, 224, 224])\n",
            "torch.Size([4, 3, 224, 224])\n",
            "torch.Size([4, 3, 224, 224])\n",
            "torch.Size([4, 3, 224, 224])\n",
            "torch.Size([4, 3, 224, 224])\n",
            "torch.Size([4, 3, 224, 224])\n",
            "torch.Size([4, 3, 224, 224])\n"
          ],
          "name": "stdout"
        }
      ]
    },
    {
      "cell_type": "markdown",
      "metadata": {
        "id": "S1Dxgc8kvxxJ",
        "colab_type": "text"
      },
      "source": [
        "Visualize a few images\n",
        "^^^^^^^^^^^^^^^^^^^^^^\n",
        "Let's visualize a few training images so as to understand the data\n",
        "augmentations.\n",
        "\n"
      ]
    },
    {
      "cell_type": "code",
      "metadata": {
        "id": "qyyT-i2mvxxL",
        "colab_type": "code",
        "outputId": "9fab20dc-3f99-4ad4-e83e-7b499c46921e",
        "colab": {
          "base_uri": "https://localhost:8080/",
          "height": 148
        }
      },
      "source": [
        "def imshow(inp, title=None):\n",
        "    \"\"\"Imshow for Tensor.\"\"\"\n",
        "    inp = inp.numpy().transpose((1, 2, 0))\n",
        "    mean = np.array([0.485, 0.456, 0.406])\n",
        "    std = np.array([0.229, 0.224, 0.225])\n",
        "    inp = std * inp + mean\n",
        "    inp = np.clip(inp, 0, 1)\n",
        "    plt.imshow(inp)\n",
        "    if title is not None:\n",
        "        plt.title(title)\n",
        "    plt.pause(0.001)  # pause a bit so that plots are updated\n",
        "\n",
        "\n",
        "# Get a batch of training data\n",
        "inputs, classes = next(iter(dataloaders['train']))\n",
        "\n",
        "# Make a grid from batch\n",
        "out = torchvision.utils.make_grid(inputs)\n",
        "\n",
        "imshow(out, title=[class_names[x] for x in classes])"
      ],
      "execution_count": 0,
      "outputs": [
        {
          "output_type": "display_data",
          "data": {
            "image/png": "[encoded data removed]",
            "text/plain": [
              "<Figure size 432x288 with 1 Axes>"
            ]
          },
          "metadata": {
            "tags": []
          }
        }
      ]
    },
    {
      "cell_type": "markdown",
      "metadata": {
        "id": "Ny-Pbe5rvxxQ",
        "colab_type": "text"
      },
      "source": [
        "Training the model\n",
        "------------------\n",
        "\n",
        "Now, let's write a general function to train a model. Here, we will\n",
        "illustrate:\n",
        "\n",
        "-  Scheduling the learning rate\n",
        "-  Saving the best model\n",
        "\n",
        "In the following, parameter ``scheduler`` is an LR scheduler object from\n",
        "``torch.optim.lr_scheduler``.\n",
        "\n"
      ]
    },
    {
      "cell_type": "code",
      "metadata": {
        "id": "8AEdrG_UvxxR",
        "colab_type": "code",
        "colab": {}
      },
      "source": [
        "def train_model(model, criterion, optimizer, scheduler, num_epochs=25):\n",
        "    since = time.time()\n",
        "\n",
        "\n",
        "\n",
        "    best_model_wts = copy.deepcopy(model.state_dict())\n",
        "    best_acc = 0.0\n",
        "\n",
        "    for epoch in range(num_epochs):\n",
        "        print('Epoch {}/{}'.format(epoch, num_epochs - 1))\n",
        "        print('-' * 10)\n",
        "\n",
        "        # Each epoch has a training and validation phase\n",
        "        for phase in ['train', 'val']:\n",
        "            if phase == 'train':\n",
        "                scheduler.step()\n",
        "                model.train()  # Set model to training mode\n",
        "            else:\n",
        "                model.eval()   # Set model to evaluate mode\n",
        "\n",
        "            running_loss = 0.0\n",
        "            running_corrects = 0\n",
        "\n",
        "            # Iterate over data.\n",
        "            for inputs, labels in dataloaders[phase]:\n",
        "                inputs = inputs.to(device)\n",
        "                labels = labels.to(device)\n",
        "\n",
        "                # zero the parameter gradients\n",
        "                optimizer.zero_grad()\n",
        "\n",
        "                # forward\n",
        "                # track history if only in train\n",
        "                with torch.set_grad_enabled(phase == 'train'):\n",
        "                    outputs = model(inputs)\n",
        "                    _, preds = torch.max(outputs, 1)\n",
        "                    loss = criterion(outputs, labels)\n",
        "\n",
        "                    # backward + optimize only if in training phase\n",
        "                    if phase == 'train':\n",
        "                        loss.backward()\n",
        "                        optimizer.step()\n",
        "\n",
        "                # statistics\n",
        "                running_loss += loss.item() * inputs.size(0)\n",
        "                running_corrects += torch.sum(preds == labels.data)\n",
        "\n",
        "            epoch_loss = running_loss / dataset_sizes[phase]\n",
        "            epoch_acc = running_corrects.double() / dataset_sizes[phase]\n",
        "\n",
        "            print('{} Loss: {:.4f} Acc: {:.4f}'.format(\n",
        "                phase, epoch_loss, epoch_acc))\n",
        "\n",
        "            # deep copy the model\n",
        "            if phase == 'val' and epoch_acc > best_acc:\n",
        "                best_acc = epoch_acc\n",
        "                best_model_wts = copy.deepcopy(model.state_dict())\n",
        "\n",
        "        print()\n",
        "\n",
        "    time_elapsed = time.time() - since\n",
        "    print('Training complete in {:.0f}m {:.0f}s'.format(\n",
        "        time_elapsed // 60, time_elapsed % 60))\n",
        "    print('Best val Acc: {:4f}'.format(best_acc))\n",
        "\n",
        "    # load best model weights\n",
        "    model.load_state_dict(best_model_wts)\n",
        "    return model"
      ],
      "execution_count": 0,
      "outputs": []
    },
    {
      "cell_type": "markdown",
      "metadata": {
        "id": "wPGEw4RzvxxV",
        "colab_type": "text"
      },
      "source": [
        "Visualizing the model predictions\n",
        "^^^^^^^^^^^^^^^^^^^^^^^^^^^^^^^^^\n",
        "\n",
        "Generic function to display predictions for a few images\n",
        "\n",
        "\n"
      ]
    },
    {
      "cell_type": "code",
      "metadata": {
        "id": "7tWXUY9yvxxX",
        "colab_type": "code",
        "colab": {}
      },
      "source": [
        "def visualize_model(model, num_images=6):\n",
        "    was_training = model.training\n",
        "    model.eval()\n",
        "    images_so_far = 0\n",
        "    fig = plt.figure()\n",
        "\n",
        "    with torch.no_grad():\n",
        "        for i, (inputs, labels) in enumerate(dataloaders['val']):\n",
        "            inputs = inputs.to(device)\n",
        "            labels = labels.to(device)\n",
        "\n",
        "            outputs = model(inputs)\n",
        "            _, preds = torch.max(outputs, 1)\n",
        "\n",
        "            for j in range(inputs.size()[0]):\n",
        "                images_so_far += 1\n",
        "                ax = plt.subplot(num_images//2, 2, images_so_far)\n",
        "                ax.axis('off')\n",
        "                ax.set_title('predicted: {}'.format(class_names[preds[j]]))\n",
        "                imshow(inputs.cpu().data[j])\n",
        "\n",
        "                if images_so_far == num_images:\n",
        "                    model.train(mode=was_training)\n",
        "                    return\n",
        "        model.train(mode=was_training)"
      ],
      "execution_count": 0,
      "outputs": []
    },
    {
      "cell_type": "code",
      "metadata": {
        "id": "bIO2USx76bbk",
        "colab_type": "code",
        "colab": {}
      },
      "source": [
        "!rm -r ~/.cache/torch"
      ],
      "execution_count": 0,
      "outputs": []
    },
    {
      "cell_type": "markdown",
      "metadata": {
        "id": "G3aviAVYvxxa",
        "colab_type": "text"
      },
      "source": [
        "Finetuning the convnet\n",
        "----------------------\n",
        "\n",
        "Load a pretrained model and reset final fully connected layer.\n",
        "\n",
        "\n",
        "\n",
        "\n"
      ]
    },
    {
      "cell_type": "code",
      "metadata": {
        "id": "LgQDxmS2vxxb",
        "colab_type": "code",
        "colab": {}
      },
      "source": [
        "model_ft = models.resnet18(pretrained=True)\n",
        "# model_ft.cuda() # https://github.com/jwyang/faster-rcnn.pytorch/issues/222\n",
        "# model_ft = models.resnet50(pretrained=True)\n",
        "\n",
        "num_ftrs = model_ft.fc.in_features\n",
        "# model_ft.fc = nn.Linear(num_ftrs, 2)\n",
        "model_ft.fc = nn.Linear(num_ftrs, len(class_names))\n",
        "\n",
        "\n",
        "model_ft = model_ft.to(device)\n",
        "\n",
        "criterion = nn.CrossEntropyLoss()\n",
        "\n",
        "# Observe that all parameters are being optimized\n",
        "optimizer_ft = optim.SGD(model_ft.parameters(), lr=0.001, momentum=0.9)\n",
        "\n",
        "# Decay LR by a factor of 0.1 every 7 epochs\n",
        "exp_lr_scheduler = lr_scheduler.StepLR(optimizer_ft, step_size=7, gamma=0.1)"
      ],
      "execution_count": 0,
      "outputs": []
    },
    {
      "cell_type": "markdown",
      "metadata": {
        "id": "FzQ_XhKWvxxh",
        "colab_type": "text"
      },
      "source": [
        "Train and evaluate\n",
        "^^^^^^^^^^^^^^^^^^\n",
        "\n",
        "It should take around 15-25 min on CPU. On GPU though, it takes less than a\n",
        "minute.\n",
        "\n",
        "\n"
      ]
    },
    {
      "cell_type": "code",
      "metadata": {
        "id": "-QV-D9dNvxxi",
        "colab_type": "code",
        "outputId": "300f0276-e5e1-4947-ed13-c3a3053cd4a9",
        "colab": {
          "base_uri": "https://localhost:8080/",
          "height": 1000
        }
      },
      "source": [
        "%time\n",
        "# model_ft = train_model(model_ft, criterion, optimizer_ft, exp_lr_scheduler,\n",
        "#                        num_epochs=1)\n",
        "model_ft = train_model(model_ft, criterion, optimizer_ft, exp_lr_scheduler,\n",
        "                       num_epochs=25)"
      ],
      "execution_count": 0,
      "outputs": [
        {
          "output_type": "stream",
          "text": [
            "CPU times: user 1 µs, sys: 1 µs, total: 2 µs\n",
            "Wall time: 5.72 µs\n",
            "Epoch 0/24\n",
            "----------\n",
            "train Loss: 1.1352 Acc: 0.4750\n",
            "val Loss: 0.7293 Acc: 0.7000\n",
            "\n",
            "Epoch 1/24\n",
            "----------\n",
            "train Loss: 0.8322 Acc: 0.6125\n",
            "val Loss: 0.7404 Acc: 0.6875\n",
            "\n",
            "Epoch 2/24\n",
            "----------\n",
            "train Loss: 0.5735 Acc: 0.7250\n",
            "val Loss: 0.6030 Acc: 0.7500\n",
            "\n",
            "Epoch 3/24\n",
            "----------\n",
            "train Loss: 0.4957 Acc: 0.7625\n",
            "val Loss: 1.3849 Acc: 0.6000\n",
            "\n",
            "Epoch 4/24\n",
            "----------\n",
            "train Loss: 0.5463 Acc: 0.7875\n",
            "val Loss: 0.7251 Acc: 0.7500\n",
            "\n",
            "Epoch 5/24\n",
            "----------\n",
            "train Loss: 0.5971 Acc: 0.7875\n",
            "val Loss: 1.5766 Acc: 0.6250\n",
            "\n",
            "Epoch 6/24\n",
            "----------\n",
            "train Loss: 0.3301 Acc: 0.8375\n",
            "val Loss: 0.9620 Acc: 0.7125\n",
            "\n",
            "Epoch 7/24\n",
            "----------\n",
            "train Loss: 0.6308 Acc: 0.7500\n",
            "val Loss: 0.8055 Acc: 0.7375\n",
            "\n",
            "Epoch 8/24\n",
            "----------\n",
            "train Loss: 0.8188 Acc: 0.6625\n",
            "val Loss: 0.7456 Acc: 0.7375\n",
            "\n",
            "Epoch 9/24\n",
            "----------\n",
            "train Loss: 0.4228 Acc: 0.8500\n",
            "val Loss: 0.8676 Acc: 0.7375\n",
            "\n",
            "Epoch 10/24\n",
            "----------\n",
            "train Loss: 0.2677 Acc: 0.9000\n",
            "val Loss: 0.7307 Acc: 0.7375\n",
            "\n",
            "Epoch 11/24\n",
            "----------\n",
            "train Loss: 0.3888 Acc: 0.8500\n",
            "val Loss: 0.8112 Acc: 0.7250\n",
            "\n",
            "Epoch 12/24\n",
            "----------\n",
            "train Loss: 0.3787 Acc: 0.8500\n",
            "val Loss: 0.7936 Acc: 0.7375\n",
            "\n",
            "Epoch 13/24\n",
            "----------\n",
            "train Loss: 0.3632 Acc: 0.8500\n",
            "val Loss: 0.6867 Acc: 0.7625\n",
            "\n",
            "Epoch 14/24\n",
            "----------\n",
            "train Loss: 0.3600 Acc: 0.8625\n",
            "val Loss: 0.6548 Acc: 0.7625\n",
            "\n",
            "Epoch 15/24\n",
            "----------\n",
            "train Loss: 0.4238 Acc: 0.8625\n",
            "val Loss: 0.6408 Acc: 0.7500\n",
            "\n",
            "Epoch 16/24\n",
            "----------\n",
            "train Loss: 0.3093 Acc: 0.8625\n",
            "val Loss: 0.6623 Acc: 0.7625\n",
            "\n",
            "Epoch 17/24\n",
            "----------\n",
            "train Loss: 0.5018 Acc: 0.8250\n",
            "val Loss: 0.7279 Acc: 0.7500\n",
            "\n",
            "Epoch 18/24\n",
            "----------\n",
            "train Loss: 0.3401 Acc: 0.8375\n",
            "val Loss: 0.7713 Acc: 0.7375\n",
            "\n",
            "Epoch 19/24\n",
            "----------\n",
            "train Loss: 0.3963 Acc: 0.8375\n",
            "val Loss: 0.7073 Acc: 0.7625\n",
            "\n",
            "Epoch 20/24\n",
            "----------\n",
            "train Loss: 0.3577 Acc: 0.8625\n",
            "val Loss: 0.6822 Acc: 0.7625\n",
            "\n",
            "Epoch 21/24\n",
            "----------\n",
            "train Loss: 0.3942 Acc: 0.8375\n",
            "val Loss: 0.6892 Acc: 0.7625\n",
            "\n",
            "Epoch 22/24\n",
            "----------\n",
            "train Loss: 0.3586 Acc: 0.8375\n",
            "val Loss: 0.5610 Acc: 0.7750\n",
            "\n",
            "Epoch 23/24\n",
            "----------\n",
            "train Loss: 0.2636 Acc: 0.9000\n",
            "val Loss: 0.6038 Acc: 0.7625\n",
            "\n",
            "Epoch 24/24\n",
            "----------\n",
            "train Loss: 0.3262 Acc: 0.8625\n",
            "val Loss: 0.7756 Acc: 0.7250\n",
            "\n",
            "Training complete in 0m 54s\n",
            "Best val Acc: 0.775000\n"
          ],
          "name": "stdout"
        }
      ]
    },
    {
      "cell_type": "code",
      "metadata": {
        "id": "o4pjxN1Ovxxl",
        "colab_type": "code",
        "outputId": "fdaa0deb-a470-4095-a965-525cdf71e44b",
        "colab": {
          "base_uri": "https://localhost:8080/",
          "height": 683
        }
      },
      "source": [
        "visualize_model(model_ft)"
      ],
      "execution_count": 0,
      "outputs": [
        {
          "output_type": "display_data",
          "data": {
            "image/png": "[encoded data removed]",
            "text/plain": [
              "<Figure size 432x288 with 1 Axes>"
            ]
          },
          "metadata": {
            "tags": []
          }
        },
        {
          "output_type": "display_data",
          "data": {
            "image/png": "[encoded data removed]",
            "text/plain": [
              "<Figure size 432x288 with 1 Axes>"
            ]
          },
          "metadata": {
            "tags": []
          }
        },
        {
          "output_type": "display_data",
          "data": {
            "image/png": "[encoded data removed]",
            "text/plain": [
              "<Figure size 432x288 with 1 Axes>"
            ]
          },
          "metadata": {
            "tags": []
          }
        },
        {
          "output_type": "display_data",
          "data": {
            "image/png": "[encoded data removed]",
            "text/plain": [
              "<Figure size 432x288 with 1 Axes>"
            ]
          },
          "metadata": {
            "tags": []
          }
        },
        {
          "output_type": "display_data",
          "data": {
            "image/png": "[encoded data removed]",
            "text/plain": [
              "<Figure size 432x288 with 1 Axes>"
            ]
          },
          "metadata": {
            "tags": []
          }
        },
        {
          "output_type": "display_data",
          "data": {
            "image/png": "[encoded data removed]",
            "text/plain": [
              "<Figure size 432x288 with 1 Axes>"
            ]
          },
          "metadata": {
            "tags": []
          }
        }
      ]
    },
    {
      "cell_type": "markdown",
      "metadata": {
        "id": "0M71lwFbvxxq",
        "colab_type": "text"
      },
      "source": [
        "ConvNet as fixed feature extractor\n",
        "----------------------------------\n",
        "\n",
        "Here, we need to freeze all the network except the final layer. We need\n",
        "to set ``requires_grad == False`` to freeze the parameters so that the\n",
        "gradients are not computed in ``backward()``.\n",
        "\n",
        "You can read more about this in the documentation\n",
        "`here <http://pytorch.org/docs/notes/autograd.html#excluding-subgraphs-from-backward>`__.\n",
        "\n",
        "\n"
      ]
    },
    {
      "cell_type": "code",
      "metadata": {
        "id": "bfMpmuQIvxxr",
        "colab_type": "code",
        "outputId": "d8c203d8-880b-446e-fa68-82295040dbe7",
        "colab": {
          "base_uri": "https://localhost:8080/",
          "height": 51
        }
      },
      "source": [
        "%time\n",
        "model_conv = torchvision.models.resnet18(pretrained=True)\n",
        "for param in model_conv.parameters():\n",
        "    param.requires_grad = False\n",
        "\n",
        "# Parameters of newly constructed modules have requires_grad=True by default\n",
        "num_ftrs = model_conv.fc.in_features\n",
        "model_conv.fc = nn.Linear(num_ftrs, len(class_names))\n",
        "\n",
        "model_conv = model_conv.to(device)\n",
        "\n",
        "criterion = nn.CrossEntropyLoss()\n",
        "\n",
        "# Observe that only parameters of final layer are being optimized as\n",
        "# opoosed to before.\n",
        "optimizer_conv = optim.SGD(model_conv.fc.parameters(), lr=0.001, momentum=0.9)\n",
        "\n",
        "# Decay LR by a factor of 0.1 every 7 epochs\n",
        "exp_lr_scheduler = lr_scheduler.StepLR(optimizer_conv, step_size=7, gamma=0.1)"
      ],
      "execution_count": 0,
      "outputs": [
        {
          "output_type": "stream",
          "text": [
            "CPU times: user 2 µs, sys: 1 µs, total: 3 µs\n",
            "Wall time: 5.01 µs\n"
          ],
          "name": "stdout"
        }
      ]
    },
    {
      "cell_type": "markdown",
      "metadata": {
        "id": "sJcNpA6Svxxv",
        "colab_type": "text"
      },
      "source": [
        "Train and evaluate\n",
        "^^^^^^^^^^^^^^^^^^\n",
        "\n",
        "On CPU this will take about half the time compared to previous scenario.\n",
        "This is expected as gradients don't need to be computed for most of the\n",
        "network. However, forward does need to be computed.\n",
        "\n",
        "\n"
      ]
    },
    {
      "cell_type": "code",
      "metadata": {
        "id": "RHBfvWgmvxxw",
        "colab_type": "code",
        "outputId": "97d3364e-5137-4ce7-dcb4-f0ee50815bc9",
        "colab": {
          "base_uri": "https://localhost:8080/",
          "height": 1000
        }
      },
      "source": [
        "%time\n",
        "model_conv = train_model(model_conv, criterion, optimizer_conv,\n",
        "                         exp_lr_scheduler, num_epochs=25)"
      ],
      "execution_count": 0,
      "outputs": [
        {
          "output_type": "stream",
          "text": [
            "CPU times: user 2 µs, sys: 1e+03 ns, total: 3 µs\n",
            "Wall time: 7.63 µs\n",
            "Epoch 0/24\n",
            "----------\n",
            "train Loss: 1.2573 Acc: 0.3000\n",
            "val Loss: 1.4221 Acc: 0.2375\n",
            "\n",
            "Epoch 1/24\n",
            "----------\n",
            "train Loss: 1.3188 Acc: 0.3750\n",
            "val Loss: 1.1494 Acc: 0.5000\n",
            "\n",
            "Epoch 2/24\n",
            "----------\n",
            "train Loss: 0.8296 Acc: 0.5500\n",
            "val Loss: 0.8376 Acc: 0.6250\n",
            "\n",
            "Epoch 3/24\n",
            "----------\n",
            "train Loss: 0.8062 Acc: 0.6875\n",
            "val Loss: 0.7468 Acc: 0.7000\n",
            "\n",
            "Epoch 4/24\n",
            "----------\n",
            "train Loss: 0.8391 Acc: 0.5875\n",
            "val Loss: 0.7544 Acc: 0.6750\n",
            "\n",
            "Epoch 5/24\n",
            "----------\n",
            "train Loss: 0.7269 Acc: 0.6875\n",
            "val Loss: 0.7404 Acc: 0.6875\n",
            "\n",
            "Epoch 6/24\n",
            "----------\n",
            "train Loss: 0.6408 Acc: 0.7625\n",
            "val Loss: 0.7756 Acc: 0.6750\n",
            "\n",
            "Epoch 7/24\n",
            "----------\n",
            "train Loss: 0.5799 Acc: 0.7000\n",
            "val Loss: 0.7684 Acc: 0.6875\n",
            "\n",
            "Epoch 8/24\n",
            "----------\n",
            "train Loss: 0.5985 Acc: 0.7250\n",
            "val Loss: 0.7409 Acc: 0.6875\n",
            "\n",
            "Epoch 9/24\n",
            "----------\n",
            "train Loss: 0.5847 Acc: 0.7375\n",
            "val Loss: 0.7687 Acc: 0.6750\n",
            "\n",
            "Epoch 10/24\n",
            "----------\n",
            "train Loss: 0.5874 Acc: 0.7500\n",
            "val Loss: 0.8070 Acc: 0.6750\n",
            "\n",
            "Epoch 11/24\n",
            "----------\n",
            "train Loss: 0.5628 Acc: 0.7750\n",
            "val Loss: 0.7713 Acc: 0.6875\n",
            "\n",
            "Epoch 12/24\n",
            "----------\n",
            "train Loss: 0.5406 Acc: 0.7750\n",
            "val Loss: 0.7879 Acc: 0.6625\n",
            "\n",
            "Epoch 13/24\n",
            "----------\n",
            "train Loss: 0.5045 Acc: 0.8500\n",
            "val Loss: 0.7595 Acc: 0.6875\n",
            "\n",
            "Epoch 14/24\n",
            "----------\n",
            "train Loss: 0.6656 Acc: 0.7625\n",
            "val Loss: 0.7265 Acc: 0.6750\n",
            "\n",
            "Epoch 15/24\n",
            "----------\n",
            "train Loss: 0.6705 Acc: 0.7375\n",
            "val Loss: 0.8026 Acc: 0.6750\n",
            "\n",
            "Epoch 16/24\n",
            "----------\n",
            "train Loss: 0.5501 Acc: 0.8125\n",
            "val Loss: 0.8064 Acc: 0.6750\n",
            "\n",
            "Epoch 17/24\n",
            "----------\n",
            "train Loss: 0.4808 Acc: 0.8125\n",
            "val Loss: 0.7837 Acc: 0.6750\n",
            "\n",
            "Epoch 18/24\n",
            "----------\n",
            "train Loss: 0.4608 Acc: 0.8500\n",
            "val Loss: 0.7964 Acc: 0.6750\n",
            "\n",
            "Epoch 19/24\n",
            "----------\n",
            "train Loss: 0.5895 Acc: 0.7250\n",
            "val Loss: 0.8210 Acc: 0.7000\n",
            "\n",
            "Epoch 20/24\n",
            "----------\n",
            "train Loss: 0.5734 Acc: 0.8000\n",
            "val Loss: 0.7312 Acc: 0.6875\n",
            "\n",
            "Epoch 21/24\n",
            "----------\n",
            "train Loss: 0.6569 Acc: 0.7750\n",
            "val Loss: 0.7987 Acc: 0.6625\n",
            "\n",
            "Epoch 22/24\n",
            "----------\n",
            "train Loss: 0.6051 Acc: 0.7875\n",
            "val Loss: 0.8726 Acc: 0.6500\n",
            "\n",
            "Epoch 23/24\n",
            "----------\n",
            "train Loss: 0.5775 Acc: 0.7500\n",
            "val Loss: 0.8359 Acc: 0.6625\n",
            "\n",
            "Epoch 24/24\n",
            "----------\n",
            "train Loss: 0.5814 Acc: 0.7500\n",
            "val Loss: 0.8016 Acc: 0.6750\n",
            "\n",
            "Training complete in 0m 37s\n",
            "Best val Acc: 0.700000\n"
          ],
          "name": "stdout"
        }
      ]
    },
    {
      "cell_type": "code",
      "metadata": {
        "id": "eWXx96sdvxx1",
        "colab_type": "code",
        "outputId": "8a9ea8ff-4406-4dc6-b244-fd7bfa387739",
        "colab": {
          "base_uri": "https://localhost:8080/",
          "height": 683
        }
      },
      "source": [
        "visualize_model(model_conv)\n",
        "\n",
        "plt.ioff()\n",
        "plt.show()"
      ],
      "execution_count": 0,
      "outputs": [
        {
          "output_type": "display_data",
          "data": {
            "image/png": "[encoded data removed]",
            "text/plain": [
              "<Figure size 432x288 with 1 Axes>"
            ]
          },
          "metadata": {
            "tags": []
          }
        },
        {
          "output_type": "display_data",
          "data": {
            "image/png": "[encoded data removed]",
            "text/plain": [
              "<Figure size 432x288 with 1 Axes>"
            ]
          },
          "metadata": {
            "tags": []
          }
        },
        {
          "output_type": "display_data",
          "data": {
            "image/png": "[encoded data removed]",
            "text/plain": [
              "<Figure size 432x288 with 1 Axes>"
            ]
          },
          "metadata": {
            "tags": []
          }
        },
        {
          "output_type": "display_data",
          "data": {
            "image/png": "[encoded data removed]",
            "text/plain": [
              "<Figure size 432x288 with 1 Axes>"
            ]
          },
          "metadata": {
            "tags": []
          }
        },
        {
          "output_type": "display_data",
          "data": {
            "image/png": "[encoded data removed]",
            "text/plain": [
              "<Figure size 432x288 with 1 Axes>"
            ]
          },
          "metadata": {
            "tags": []
          }
        },
        {
          "output_type": "display_data",
          "data": {
            "image/png": "[encoded data removed]",
            "text/plain": [
              "<Figure size 432x288 with 1 Axes>"
            ]
          },
          "metadata": {
            "tags": []
          }
        }
      ]
    },
    {
      "cell_type": "code",
      "metadata": {
        "id": "Qqw8zW_n6KpP",
        "colab_type": "code",
        "outputId": "39feddb6-9b99-4106-d476-dc7dde8fe013",
        "colab": {
          "base_uri": "https://localhost:8080/",
          "height": 100
        }
      },
      "source": [
        "!curl https://www.photolibrary.jp/mhd7/img375/450-20141229110838146588.jpg -o choki.jpg"
      ],
      "execution_count": 0,
      "outputs": [
        {
          "output_type": "stream",
          "text": [
            "  % Total    % Received % Xferd  Average Speed   Time    Time     Time  Current\n",
            "                                 Dload  Upload   Total   Spent    Left  Speed\n",
            "100 38378  100 38378    0     0  18612      0  0:00:02  0:00:02 --:--:-- 18612\n"
          ],
          "name": "stdout"
        }
      ]
    },
    {
      "cell_type": "code",
      "metadata": {
        "id": "l5vPvh8Y5rJ9",
        "colab_type": "code",
        "outputId": "90bc551f-ad2f-47d5-d81a-2e453d6dec77",
        "colab": {
          "base_uri": "https://localhost:8080/",
          "height": 68
        }
      },
      "source": [
        "%time\n",
        "from PIL import Image\n",
        "\n",
        "data_transform = transforms.Compose([\n",
        "        transforms.Resize(256),\n",
        "        transforms.CenterCrop(224),\n",
        "        transforms.ToTensor(),\n",
        "        transforms.Normalize([0.485, 0.456, 0.406], [0.229, 0.224, 0.225])])\n",
        "\n",
        "image = Image.open('choki.jpg')\n",
        "\n",
        "# dirpath = 'drive/My Drive/Colab Notebooks/torch/3668.jpg'\n",
        "# image = Image.open(dirpath)\n",
        "\n",
        "image = data_transform(image).unsqueeze(0).cuda()\n",
        "\n",
        "out = model_conv(image)\n",
        "# Find the predicted class\n",
        "print(\"Predicted class is: {}\".format(class_names[out.argmax()]))"
      ],
      "execution_count": 38,
      "outputs": [
        {
          "output_type": "stream",
          "text": [
            "CPU times: user 2 µs, sys: 2 µs, total: 4 µs\n",
            "Wall time: 8.58 µs\n",
            "Predicted class is: paa\n"
          ],
          "name": "stdout"
        }
      ]
    }
  ]
}